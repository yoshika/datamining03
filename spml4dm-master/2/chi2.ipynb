{
 "metadata": {
  "name": "",
  "signature": "sha256:ea2557ac83fc5da6830a393e476d14dc8c128fbd226e9bd269a4b49a6917d17d"
 },
 "nbformat": 3,
 "nbformat_minor": 0,
 "worksheets": [
  {
   "cells": [
    {
     "cell_type": "markdown",
     "metadata": {},
     "source": [
      "# $\\chi^2$\u5206\u5e03(\u30ab\u30a4\u4e8c\u4e57\u5206\u5e03)\u3068\u306f\n",
      "\n",
      "\u6b63\u898f\u5206\u5e03 $\\mathcal{N}(\\mu, \\sigma^2)$ \u306f\u4e0b\u8a18\u306e\u3088\u3046\u306a\u95a2\u6570\u3067\u3059\u3002\n",
      "$$\\mathcal{N}(\\mu, \\sigma^2)(x) = \\frac{1}{\\sqrt{2\\pi}\\sigma}\\exp\\{-\\frac{(x-\\mu)^2}{\\sigma^2}\\}$$\n",
      "\n",
      "\u5909\u6570\u5909\u63db $$Z = \\frac{X - \\mu}{\\sigma}$$ \u3092\u884c\u3046\u3068\u3001$Z$ \u306f\u6b63\u898f\u5206\u5e03 $\\mathcal{N}(0, 1)$ \u306b\u5f93\u3046\u3088\u3046\u306b\u306a\u308a\u307e\u3059\u3002\n",
      "\n",
      "\u6b63\u898f\u5206\u5e03 $\\mathcal{N}(0, 1)$ \u3092\u7d75\u306b\u63cf\u304f\u3068\u4e0b\u8a18\u8d64\u7dda\u306e\u3088\u3046\u306b\u306a\u308a\u307e\u3059\u3002\n",
      "\n",
      "\u7d2f\u7a4d\u5bc6\u5ea6\u95a2\u6570 $\\mathrm{cdf}(f)$ \u306f\u3001\u78ba\u7387\u5bc6\u5ea6\u95a2\u6570 $f$ \u3092 $(-\\infty, x)$ \u3067\u7a4d\u5206\u3057\u305f\u3082\u306e\u3067\u3059\u3002\uff08\u4e0b\u8a18\u9752\u7dda\uff09\n",
      "\n",
      "### \u8ab2\u984c\n",
      "\n",
      "* \u4e0b\u8a18\u306e\u30b0\u30e9\u30d5\u304b\u3089 cdf \u304c $0.95$ \u306b\u306a\u308b\u3088\u3046\u306a $x$ \u306e\u6982\u7b97\u5024 $z$ \u3092\u8aad\u307f\u53d6\u308a\u306a\u3055\u3044\u3002\uff08$\\Rightarrow z\\cong 1.645$)\n",
      "* \u307e\u305f\u3001\u6b63\u898f\u5206\u5e03 $\\mathcal{N}(0, 1)$ \u306b\u5f93\u3046\u78ba\u7387\u5909\u6570\u304c $z$ \u3088\u308a\u5927\u304d\u306a\u5024\u306b\u306a\u308b\u78ba\u7387\u306f\u3069\u306e\u304f\u3089\u3044\u3067\u3057\u3087\u3046\u304b\uff1f($\\Rightarrow 0.05$)"
     ]
    },
    {
     "cell_type": "code",
     "collapsed": false,
     "input": [
      "# matplotlib \u3092\u4f7f\u3046\u304a\u307e\u3058\u306a\u3044\n",
      "%matplotlib inline  \n",
      "\n",
      "# \u30e9\u30a4\u30d6\u30e9\u30ea\u306e\u30a4\u30f3\u30dd\u30fc\u30c8\n",
      "import numpy as np\n",
      "import matplotlib.pyplot as plt\n",
      "from scipy.stats import norm    # \u6b63\u898f\u5206\u5e03\n",
      "\n",
      "# \u30d7\u30ed\u30c3\u30c8\u7528\u306b -3 ~ 3 \u306b\u7b49\u9593\u9694\u306b 101 \u70b9\u53d6\u308b\n",
      "xp = np.linspace(-3.0, 3.0, 101)\n",
      "\n",
      "# nd \u3068\u3057\u3066\u6b63\u898f\u5206\u5e03\u30aa\u30d6\u30b8\u30a7\u30af\u30c8\u3092\u4f5c\u308b\u3002loc=\u5e73\u5747\u3001scale=\u6a19\u6e96\u504f\u5dee(sigma)\n",
      "# \u8d64\u8272\u306e pdf \u304c probability density function (\u78ba\u7387\u5bc6\u5ea6\u95a2\u6570)\n",
      "# \u9752\u8272\u306e cdf \u304c cumulative distribution function (\u7d2f\u7a4d\u5bc6\u5ea6\u95a2\u6570)\n",
      "nd = norm(loc=0.0, scale=1.0)\n",
      "plt.plot(xp, nd.pdf(xp), \"r-\", xp, nd.cdf(xp), \"b-\")"
     ],
     "language": "python",
     "metadata": {},
     "outputs": [
      {
       "metadata": {},
       "output_type": "pyout",
       "prompt_number": 57,
       "text": [
        "[<matplotlib.lines.Line2D at 0x10a235410>,\n",
        " <matplotlib.lines.Line2D at 0x10a2e86d0>]"
       ]
      },
      {
       "metadata": {},
       "output_type": "display_data",
       "png": "[encoded data removed]",
       "text": [
        "<matplotlib.figure.Figure at 0x10a7a5c50>"
       ]
      }
     ],
     "prompt_number": 57
    },
    {
     "cell_type": "markdown",
     "metadata": {},
     "source": [
      "\u78ba\u7387\u5909\u6570 $X_1, X_2, \\cdots, X_k$ \u304c\u305d\u308c\u305e\u308c\u72ec\u7acb\u306b\u3001\u5e73\u5747 $0$, \u5206\u6563 $1$ \u306e\u6b63\u898f\u5206\u5e03 $\\mathcal{N}(0, 1)$ \u306b\u5f93\u3046\u3068\u3057\u307e\u3059\u3002\n",
      "\n",
      "* \u554f\u984c\uff1b$X_1 + \\cdots + X_k$ \u306e\u5206\u5e03\u306f\u3069\u3046\u306a\u308a\u307e\u3059\u304b\uff1f $\\Rightarrow$ \u7b54\u3048\uff1a$\\mathcal{N}(0, k)$\n",
      "\n",
      "$X_1^2 + \\cdots + X_k^2$ \u306e\u5206\u5e03\u3092\u8003\u3048\u307e\u3059\u3002\u3053\u306e\u5206\u5e03\u95a2\u6570\u306f\u5909\u6570\u306e\u6570 $n$ \u3060\u3051\u3067\u95a2\u6570\u304c\u5b9a\u307e\u308a\u307e\u3059\u3002\u5177\u4f53\u7684\u306b\u306f\n",
      "$$\\chi^2_k(x) = \\frac{(1/2)^{k/2}}{\\Gamma(k/2)}x^{k/2-1}e^{-x/2}$$\n",
      "\u3068\u3044\u3046\u95a2\u6570\u306b\u5f93\u3044\u307e\u3059\u3002\u3053\u306e\u95a2\u6570\u3092\u30ab\u30a4\u4e8c\u4e57\u5206\u5e03($\\chi^2$\u5206\u5e03)\u3068\u3044\u3044\u307e\u3059\u3002\u307e\u305f\u30d1\u30e9\u30e1\u30fc\u30bf $k$ \u306e\u3053\u3068\u3092\u81ea\u7531\u5ea6\u3068\u547c\u3073\u307e\u3059\u3002\n",
      "\n",
      "\u81ea\u7531\u5ea6 $k=1, 3, 10$ \u306b\u3064\u3044\u3066\u30b0\u30e9\u30d5\u3092\u66f8\u3044\u3066\u307f\u307e\u3059\u3002"
     ]
    },
    {
     "cell_type": "code",
     "collapsed": false,
     "input": [
      "# \u30e9\u30a4\u30d6\u30e9\u30ea\u3092 import\n",
      "from scipy.stats import chi2\n",
      "\n",
      "# \u30ab\u30a4\u4e8c\u4e57\u5206\u5e03\u3092\uff13\u7a2e\u985e\u4f5c\u308b\n",
      "cd1 = chi2(1)\n",
      "cd3 = chi2(3)\n",
      "cd10 = chi2(10)\n",
      "\n",
      "xp = np.linspace(0.0, 20.0, 101)\n",
      "plt.plot(xp, cd1.pdf(xp), \"r-\", xp, cd3.pdf(xp), \"g-\", xp, cd10.pdf(xp), \"b-\") "
     ],
     "language": "python",
     "metadata": {},
     "outputs": [
      {
       "metadata": {},
       "output_type": "pyout",
       "prompt_number": 58,
       "text": [
        "[<matplotlib.lines.Line2D at 0x10af78910>,\n",
        " <matplotlib.lines.Line2D at 0x10a2a5590>,\n",
        " <matplotlib.lines.Line2D at 0x10a2a5c50>]"
       ]
      },
      {
       "metadata": {},
       "output_type": "display_data",
       "png": "[encoded data removed]",
       "text": [
        "<matplotlib.figure.Figure at 0x109ba25d0>"
       ]
      }
     ],
     "prompt_number": 58
    },
    {
     "cell_type": "markdown",
     "metadata": {},
     "source": [
      "\u30b3\u30a4\u30f3\u6295\u3052\u554f\u984c\u3092\u8003\u3048\u308b\u3053\u3068\u306b\u3057\u307e\u3059\u3002\u30b3\u30a4\u30f3\u3092100\u56de\u6295\u3052\u305f\u3068\u3053\u308d\u3001\u8868\u304c55\u56de\u3001\u88cf\u304c45\u56de\u51fa\u305f\u3068\u3057\u307e\u3059\u3002\u3053\u306e\u30b3\u30a4\u30f3\u306f\u8868\u88cf\u306b\u504f\u308a\u304c\u3042\u308b\u3068\u8003\u3048\u308b\u3079\u304d\u3067\u3057\u3087\u3046\u304b\uff1f\n",
      "\n",
      "\u4eee\u306b\u504f\u308a\u304c\u7121\u3044\u3068\u4eee\u5b9a\u3057\u307e\u3057\u3087\u3046\u3002\u3059\u308b\u3068\u78ba\u7387\u306f $p_\\text{\u8868} = p_\\text{\u88cf} = 0.5$ \u3067\u3059\u304b\u3089\n",
      "\n",
      "|   | \u8868 | \u88cf |\n",
      "|:---:|:---:|:---:|\n",
      "| \u671f\u5f85\u5024 | 50 | 50 |\n",
      "| \u5b9f\u6e2c\u5024 | 55 | 45 |\n",
      "\n",
      "\u3068\u3044\u3046\u3053\u3068\u306b\u306a\u308a\u307e\u3059\u3002\n",
      "\n",
      "\u8868\u3001\u88cf\u306e\u51fa\u305f\u56de\u6570\u306f\u4e8c\u9805\u5206\u5e03 $\\mathrm{Binom}(p, n)$\u306b\u5f93\u3044\u307e\u3059\u3002\n",
      "$$\\mathrm{Binom}(p,n)(k) = \\frac{n!}{k! (n-k)!}p^k (1-p)^{n-k}$$\n",
      "\u3053\u306e\u5206\u5e03\u306e\u5e73\u5747\u306f $np$\u3001\u5206\u6563\u306f $np(1-p)$ \u3067\u3059\u3002\n",
      "\n",
      "\u3053\u3053\u3067\n",
      "$$\\chi^2 = \\sum_{i=1}^K \\frac{(O_i - E_i)^2}{E_i}, \\; O_i = \\text{\u5b9f\u6e2c\u5024}, E_i = \\text{\u671f\u5f85\u5024}$$\n",
      "\u3068\u3044\u3046\u91cf\u3092\u8a08\u7b97\u3057\u307e\u3059\u3002\u4eca\u56de\u306f\u88cf\u8868\u306a\u306e\u3067 $K = 2$ \u3067\u3059\u3002\n",
      "$$\\begin{eqnarray*}\n",
      "\\chi^2 &=& \\frac{(O_1 - np_1)^2}{np_1} + \\frac{(O_2 - np_2)^2}{np_2} \\\\\n",
      "&=& \\left\\{\\frac{O_1 - np_1}{\\sqrt{np_1(1-p_1)}}\\right\\}^2\n",
      "\\end{eqnarray*}$$\n",
      "\u3068\u306a\u308a\u307e\u3059\u3002\u4e8c\u9805\u5206\u5e03\u306f $n$ \u304c\u5927\u304d\u3044\u3068\u304d\u3001$O_1$ \u306e\u5206\u5e03 $\\mathrm{Binom}(p_1, n)$ \u306f\n",
      "\u6b63\u898f\u5206\u5e03 $\\mathcal{N}(np_1, np_1(1-p_1))$ \u306b\u8fd1\u3065\u304d\u307e\u3059\u304b\u3089\n",
      "$\\chi^2$ \u306e\u5206\u5e03\u306f\u81ea\u7531\u5ea6$1$\u306e$\\chi^2$\u5206\u5e03 $\\chi^2_1$ \u306b\u5f93\u3044\u307e\u3059\u3002\n",
      "\n",
      "* $O_1 + O_2 = n, \\; p_1 + p_2 = 1$ \u306e\u95a2\u4fc2\u3092\u7528\u3044\u3066\u4e0a\u8a18\u306e\u5f0f\u5909\u5f62\u3092\u78ba\u8a8d\u3057\u3066\u307f\u3066\u304f\u3060\u3055\u3044\u3002\n",
      "\n",
      "\u56de\u7b54\uff1b\u611a\u76f4\u306b\u8a08\u7b97\u3059\u308b\u3060\u3051\u3067\u3059\u3002\n",
      "$$\\begin{eqnarray*}\n",
      "\\chi^2 &=& \\frac{(O_1 - np_1)^2}{np_1} + \\frac{(O_2 - np_2)^2}{np_2} \\\\\n",
      "&=& \\frac{(O_1-np_1)^2}{np_1} + \\frac{(n-O_1-n(1-p_1)^2)}{n(1-p_1)} \\\\\n",
      "&=& \\frac{(O_1-np_1)^2}{np_1} + \\frac{(O_1-np_1)^2}{n(1-p_1)} \\\\\n",
      "&=& \\frac{(O_1-np_1)^2}{np_1(1-p_1)}\\left\\{(1-p_1)+p_1\\right\\} \\\\\n",
      "&=& \\left\\{\\frac{O_1 - np_1}{\\sqrt{np_1(1-p_1)}}\\right\\}^2 \\\\\n",
      "\\end{eqnarray*}$$\n",
      "\n",
      "\u8868\u3068\u88cf\u306e\u56de\u6570\u306f\u8db3\u3059\u3068100\u306b\u306a\u308b\u3001\u3068\u3044\u3046\u95a2\u4fc2\u304c\u3042\u308a\u307e\u3059\u3002\n",
      "\u3064\u307e\u308a\u81ea\u7531\u306b\u6c7a\u3081\u3089\u308c\u308b\u30d1\u30e9\u30e1\u30fc\u30bf\u306f $O_1$ \u3060\u3051\u3068\u3044\u3046\u3053\u3068\u306b\u306a\u308a\u307e\u3059\u3002\n",
      "\u4e0a\u306e\u4f8b\u3067\u306f $K=2$ \u306b\u3064\u3044\u3066\u3060\u3051\u8a08\u7b97\u3057\u307e\u3057\u305f\u304c\u3001\u4e00\u822c\u306b\n",
      "$$\\text{\u81ea\u7531\u5ea6} = \\text{\u78ba\u7387\u5909\u6570\u306e\u6570} - \\text{\u5236\u7d04\u3068\u306a\u308b\u7b49\u5f0f\u306e\u6570}$$\n",
      "\u3068\u3044\u3046\u95a2\u4fc2\u304c\u306a\u308a\u305f\u3061\u307e\u3059\u3002\n"
     ]
    },
    {
     "cell_type": "markdown",
     "metadata": {},
     "source": [
      "\u3055\u3066\u3001\u6700\u521d\u306e\u4f8b\u306e\u5834\u5408\u3001\n",
      "$$\\chi^2 = \\frac{(55-50)^2}{50} + \\frac{(45-50)^2}{50} = 1.0$$\n",
      "\u3067\u3059\u3002$\\chi^2_1(x)$ \u306e\u7d2f\u7a4d\u5bc6\u5ea6\u95a2\u6570\u306e\u30b0\u30e9\u30d5\u3092\u66f8\u3044\u3066\u307f\u307e\u3057\u3087\u3046\u3002"
     ]
    },
    {
     "cell_type": "code",
     "collapsed": false,
     "input": [
      "xp = np.linspace(0.0, 3.0, 101)\n",
      "plt.plot(xp, cd1.cdf(xp), \"r-\") "
     ],
     "language": "python",
     "metadata": {},
     "outputs": [
      {
       "metadata": {},
       "output_type": "pyout",
       "prompt_number": 59,
       "text": [
        "[<matplotlib.lines.Line2D at 0x10a35bd90>]"
       ]
      },
      {
       "metadata": {},
       "output_type": "display_data",
       "png": "[encoded data removed]",
       "text": [
        "<matplotlib.figure.Figure at 0x10a7a19d0>"
       ]
      }
     ],
     "prompt_number": 59
    },
    {
     "cell_type": "markdown",
     "metadata": {},
     "source": [
      "cdf \u306e\u30b0\u30e9\u30d5\u304b\u3089\u30017\u5272\u3050\u3089\u3044\u306e\u78ba\u7387\u3067 $\\chi^2_1 < 1.0$ \u3067\u3042\u308a\u3001\n",
      "$\\chi^2_1 > 1.0$ \u3068\u306a\u308b\u78ba\u7387\u306f3\u5272\u3050\u3089\u3044\u3042\u308a\u305d\u3046\u3060\u3068\u5206\u304b\u308a\u307e\u3059\u3002\n",
      "\n",
      "3\u5272\u3068\u3044\u3046\u306e\u306f\u300c\u3081\u3063\u305f\u306b\u7121\u3044\u4e8b\u67c4\u300d\u3068\u306f\u8a00\u3048\u306a\u3044\u3067\u3057\u3087\u3046\u3002\u300c\u3081\u3063\u305f\u306b\u7121\u3044\u300d\u306e\u57fa\u6e96\u3068\u3057\u3066\u4eee\u306b\u300c5%\u4ee5\u4e0b\u306e\u78ba\u7387\u300d\u3068\u3057\u307e\u3057\u3087\u3046\u3002\u3059\u308b\u3068\u3001$\\mathrm{cdf}(\\chi^2_1)(3.84) \\sim 0.95$ \u3067\u3059\u304b\u3089\u3001\n",
      "\n",
      "* $\\chi^2 < 3.84$ \u306e\u5834\u5408\u306f\u3001\u300c\u3081\u3063\u305f\u306b\u7121\u3044\u300d\u3068\u306f\u8a00\u3048\u306a\u3044\u3002\u3064\u307e\u308a\u8868\u88cf\u306f\u504f\u3063\u3066\u3044\u308b\u3068\u306f\u65ad\u8a00\u3059\u308b\u306b\u306f\u81ea\u4fe1\u304c\u306a\u3044\u3002\u3053\u308c\u3092\u300e\u6709\u610f\u6c34\u6e96 5% \u3067\u300c\u8868\u88cf\u306b\u504f\u308a\u304c\u7121\u3044\u300d\u3068\u3044\u3046\u4eee\u8aac\u306f\u68c4\u5374\u3055\u308c\u306a\u3044\u300f\u3068\u3044\u3044\u307e\u3059\u3002\n",
      "* $\\chi^2 > 3.84$ \u306e\u5834\u5408\u306f\u3001\u300c\u3081\u3063\u305f\u306b\u7121\u3044\u300d\u3068\u3044\u3048\u308b\u307b\u3069\u7406\u8ad6\u5024\u304b\u3089\u305a\u308c\u3066\u3044\u308b\u3002\u3064\u307e\u308a\u8868\u88cf\u306f\u504f\u3063\u3066\u3044\u308b\u3001\u3068\u8003\u3048\u3066\u3082\u3044\u3044\u3060\u308d\u3046\u3002\u3053\u308c\u3092\u300e\u6709\u610f\u6c34\u6e96 5% \u3067\u300c\u8868\u88cf\u306b\u504f\u308a\u304c\u7121\u3044\u300d\u3068\u3044\u3046\u4eee\u8aac\u306f\u68c4\u5374\u3055\u308c\u308b\u300f\u3068\u3044\u3044\u307e\u3059\u3002\n",
      "\n",
      "\u3068\u3044\u3048\u307e\u3059\u3002\u3053\u308c\u304c(\u4e8c\u9805\u5206\u5e03\u306b\u95a2\u3059\u308b)\u30ab\u30a4\u4e8c\u4e57\u691c\u5b9a\u306e\u57fa\u672c\u3067\u3059\u3002"
     ]
    },
    {
     "cell_type": "markdown",
     "metadata": {},
     "source": [
      "### \u307e\u3068\u3081\n",
      "\n",
      "\u30ab\u30a4\u4e8c\u4e57\u691c\u5b9a\u3092\u884c\u3046\u305f\u3081\u306b\u306f\u3001\n",
      "\n",
      "* \u5b9f\u6e2c\u5024\u3068\u7406\u8ad6\u5024\u3092\u8868\u306b\u307e\u3068\u3081\u3001$\\chi^2$ \u306e\u5024\u3092\u8a08\u7b97\u3059\u308b\u3002\n",
      "* \u6709\u610f\u6c34\u6e96 $\\alpha$ \u3092\u6c7a\u3081\u308b\uff08\u901a\u5e38\u306f 5%($\\alpha=0.05$) \u3060\u304c\u3001\u3088\u308a\u614e\u91cd\u306b\u3001\u300c\u7406\u8ad6\u5024\u3068\u306e\u5dee\u304c\u3088\u308a\u9855\u8457\u306a\u5834\u5408\u3060\u3051\u68c4\u5374\u3057\u305f\u3044\u300d\u5834\u5408\u306f\u30011% \u3068\u304b\uff09\u3002\n",
      "* \u81ea\u7531\u5ea6\u3092\u8003\u5bdf\u3059\u308b\u3002(\u81ea\u7531\u306a\u78ba\u7387\u5909\u6570\u306e\u6570\u304b\u3089\u3001\u95a2\u4fc2\u5f0f\u306e\u6570\u3092\u5f15\u304f)\n",
      "* \u95be\u5024\u3068\u306a\u308b $\\chi^2$ \u306e\u5024\u3092\u6c42\u3081\u308b\u3002\n",
      "   + \u7d71\u8a08\u5b66\u306e\u6559\u79d1\u66f8\u306e\u5dfb\u672b\u306e\u30ab\u30a4\u4e8c\u4e57\u5206\u5e03\u306e\u6570\u8868\u304b\u3089\u8aad\u3080\n",
      "   + \u30ab\u30a4\u4e8c\u4e57\u5206\u5e03\u30aa\u30d6\u30b8\u30a7\u30af\u30c8 cd \u306b\u3064\u3044\u3066\u3001cd.isf(0.05) \u3067\u6c42\u3081\u308b\u3002\n",
      "* \u95be\u5024\u306e\u5024\u3092\u5143\u306b\u3001$\\chi^2$\u304c\u5927\u304d\u3051\u308c\u3070\u300c\u5b9f\u6e2c\u5024\u306f\u7406\u8ad6\u5024\u306e\u5206\u5e03\u306b\u5f93\u3046\u300d\u3068\u3044\u3046\u4eee\u8aac\u3092\u68c4\u5374\u3059\u308b\u3002\u5c0f\u3055\u3051\u308c\u3070\u4eee\u8aac\u306f\u68c4\u5374\u3055\u308c\u306a\u3044\u3002\n"
     ]
    },
    {
     "cell_type": "markdown",
     "metadata": {},
     "source": [
      "## \u4f8b\u984c\n",
      "\n",
      "$0 \\sim 5$ \u306e\u6570\u5b57\u306e\u66f8\u304b\u308c\u305f\uff16\u9762\u30c0\u30a4\u30b9\u3092\u8003\u3048\u307e\u3059\u3002\u30c0\u30a4\u30b9\u306e\u76ee\u306f\u7b49\u3057\u3044\u78ba\u7387( $p_i = 1/6$, $i=0 \\sim 5$ )\u3067\u51fa\u308b\u3082\u306e\u3068\u3057\u307e\u3059\u3002\n",
      "\u3053\u306e\u30c0\u30a4\u30b9\u3092100\u56de\u632f\u3063\u305f\u969b\u306e\u7d50\u679c\u306f\u3001"
     ]
    },
    {
     "cell_type": "code",
     "collapsed": false,
     "input": [
      "np.random.seed(1)  # \u4e71\u6570\u306e\u30b7\u30fc\u30c9\u3092\u56fa\u5b9a\u3059\u308b\n",
      "dice = np.random.choice(6, 100)  # 0-5 \u304b\u3089\u30e9\u30f3\u30c0\u30e0\u306b100\u56de\u9078\u3093\u3060\u7d50\u679c\u3092\u6c42\u3081\u308b\n",
      "dice"
     ],
     "language": "python",
     "metadata": {},
     "outputs": [
      {
       "metadata": {},
       "output_type": "pyout",
       "prompt_number": 60,
       "text": [
        "array([5, 3, 4, 0, 1, 3, 5, 0, 0, 1, 4, 5, 4, 1, 2, 4, 5, 2, 4, 3, 4, 2, 4,\n",
        "       5, 2, 4, 1, 1, 0, 5, 1, 1, 5, 1, 1, 0, 4, 1, 0, 0, 5, 3, 2, 1, 0, 3,\n",
        "       5, 1, 1, 3, 4, 0, 1, 3, 4, 2, 4, 0, 5, 3, 1, 2, 0, 4, 1, 2, 2, 1, 0,\n",
        "       1, 3, 5, 4, 3, 5, 1, 3, 0, 0, 2, 2, 1, 3, 4, 2, 0, 0, 1, 1, 5, 3, 0,\n",
        "       0, 5, 5, 4, 5, 2, 4, 3])"
       ]
      }
     ],
     "prompt_number": 60
    },
    {
     "cell_type": "markdown",
     "metadata": {},
     "source": [
      "\u305d\u308c\u305e\u308c\u306e\u56de\u6570\u3092\u6570\u3048\u3066\u307f\u307e\u3059\u3002\u3053\u3053\u3067\u306f\u51fa\u73fe\u56de\u6570\u3092\u6570\u3048\u308b itemfreq \u95a2\u6570\u3092\u4f7f\u3044\u307e\u3059\u3002(\u53b3\u5bc6\u306b\u8a00\u3046\u3068\u3001\u51fa\u73fe\u3057\u305f\u3082\u306e\u306e\u500b\u6570\u3057\u304b\u6570\u3048\u306a\u3044\u306e\u3067\u3001\u51fa\u3066\u3044\u306a\u3044\u76ee\u304c\u3042\u308b\u3068\u307e\u305a\u3044)"
     ]
    },
    {
     "cell_type": "code",
     "collapsed": false,
     "input": [
      "from scipy.stats import itemfreq\n",
      "counts = itemfreq(dice)[:,1]\n",
      "counts"
     ],
     "language": "python",
     "metadata": {},
     "outputs": [
      {
       "metadata": {},
       "output_type": "pyout",
       "prompt_number": 61,
       "text": [
        "array([18, 22, 13, 14, 17, 16])"
       ]
      }
     ],
     "prompt_number": 61
    },
    {
     "cell_type": "markdown",
     "metadata": {},
     "source": [
      "\u3053\u306e\u30c0\u30a4\u30b9\u306e\u504f\u308a\u306b\u3064\u3044\u3066 $\\chi^2$\u691c\u5b9a\u3092\u884c\u3063\u3066\u307f\u307e\u3057\u3087\u3046\u3002\u307e\u305f\u3001python \u3067\u306e\u95a2\u6570\u306e\u66f8\u304d\u65b9\u3068\u3001\u305d\u308c\u3092\u30d9\u30af\u30c8\u30eb\u5316\u3059\u308b\u65b9\u6cd5\u3092\u5b66\u3093\u3067\u304f\u3060\u3055\u3044\u3002\n",
      "\n",
      "python \u306e\u95a2\u6570\u306e\u5b9a\u7fa9\u306f\n",
      "```\n",
      "def \u95a2\u6570\u540d(\u5f15\u6570,...):\n",
      "    \u9014\u4e2d\u306e\u8a08\u7b97\n",
      "    return \u623b\u308a\u5024\n",
      "```\n",
      "\u3068\u66f8\u304d\u307e\u3059\u3002\n",
      "\n",
      "numpy \u3067\u306f numpy.sin \u306e\u3088\u3046\u306a\u95a2\u6570\u306f\u3001\u5f15\u6570\u304c\u30d9\u30af\u30c8\u30eb\u5024\u306a\u3089\u305d\u308c\u305e\u308c\u306bsin\u3092\u9069\u7528\u3057\u305f\u30d9\u30af\u30c8\u30eb\u3092\u8fd4\u3059\u3088\u3046\u306a\u4ed5\u69d8\u306b\u306a\u3063\u3066\u3044\u307e\u3059\u3002(\u3053\u3046\u3059\u308b\u3053\u3068\u3067 python \u3068\u3057\u3066\u30eb\u30fc\u30d7\u3092\u56de\u3057\u3066\u8a08\u7b97\u3059\u308b\u3088\u308a\u9ad8\u901f\u306b\u8a08\u7b97\u3057\u305f\u308a\u4e26\u5217\u5316\u3067\u304d\u305f\u308a\u3059\u308b)\n",
      "\n",
      "\u4efb\u610f\u306e\u95a2\u6570 f \u3092\u30d9\u30af\u30c8\u30eb\u5316\u3059\u308b\u306b\u306f numpy.vectorize(f) \u3068\u3059\u308b\u3053\u3068\u3067\u95a2\u6570\u3092\u30d9\u30af\u30c8\u30eb\u5316\u3067\u304d\u307e\u3059\u3002\n",
      "\n",
      "## \u8ab2\u984c\uff11\n",
      "\n",
      "* \u7406\u8ad6\u5024 E \u306f\u3069\u306e\u3088\u3046\u306b\u66f8\u3051\u308b\u3067\u3057\u3087\u3046\u304b\uff1f\n",
      "* $\\chi^2$ \u3092\u8a08\u7b97\u3059\u308b\u305f\u3081\u306e\u3001$\\frac{(O_i - E_i)^2}{E_i}$ \u3092\u8a08\u7b97\u3059\u308b\u95a2\u6570\u3092\u66f8\u3044\u3066\u307f\u307e\u3057\u3087\u3046\u3002\n",
      "* \u81ea\u7531\u5ea6 df \u306f\u5e7e\u3064\u3067\u3057\u3087\u3046\u304b\uff1f\n",
      "* \u95be\u5024\u3068\u306a\u308b\u5024\u306f scipy.stats.chi2.isf(0.05, df) \u3067\u5f97\u3089\u308c\u307e\u3059\u3002\n",
      "* \u300c\u3059\u3079\u3066\u306e\u76ee\u304c\u540c\u3058\u78ba\u7387\u3067\u51fa\u308b\u300d\u3068\u3044\u3046\u4eee\u8aac\u306f\u6709\u610f\u6c34\u6e96 5% \u3067\u68c4\u5374\u3055\u308c\u307e\u3057\u305f\u3067\u3057\u3087\u3046\u304b\uff1f"
     ]
    },
    {
     "cell_type": "code",
     "collapsed": false,
     "input": [
      "# \u7406\u8ad6\u5024\u3092\u8a08\u7b97\u3059\u308b\n",
      "E = 100.0/6 # \u5408\u8a08\u304c100\u56de\u3067\u7b49\u78ba\u7387\n",
      "# \u81ea\u7531\u5ea6\u3092\u5b9a\u7fa9\u3059\u308b\n",
      "df = 5 # \u78ba\u7387\u5909\u6570\u306e\u6570\u306f6\u500b\u3060\u304c\u3001\u5408\u8a08=100\u3068\u3044\u3046\u5236\u7d04\u5f0f\u304c\uff11\u3064\u3042\u308b\u304b\u3089\u30016-1\uff1d5\n",
      "# Oi\u3092\u4e0e\u3048\u305f\u6642\u306b (Oi-E)**2/E \u3092\u8fd4\u3059\u95a2\u6570\u3092\u66f8\u304f\u3002\n",
      "def f(oi):\n",
      "    return (oi-E)**2/E  # python\u306e\u95a2\u6570\u306e\u66f8\u304d\u65b9\u3092\u899a\u3048\u3066\u304f\u3060\u3055\u3044\u3002\n",
      "# f\u3092\u30d9\u30af\u30c8\u30eb\u5316\u3057\u3066\u304b\u3089\u3001\u5f15\u6570\u306bcounts\u3092\u4e0e\u3048\u3001f\u306e\u5024\u306e\u30d9\u30af\u30c8\u30eb\u3092\u5f97\u3066\u3001\u305d\u306e\u5024\u3092\u3059\u3079\u3066\u5408\u8a08\u3059\u308b\n",
      "# \u3088\u304f\u308f\u304b\u3089\u306a\u3044\u5834\u5408\u306f\u3001\n",
      "# np.vectorize(f)\n",
      "# np.vectorize(f)(counts)\n",
      "# np.vectorize(f)(counts).sum()\n",
      "# \u306a\u3069\u9806\u3005\u306b\u8a66\u3057\u3066\u307f\u3066\u304f\u3060\u3055\u3044\n",
      "np.vectorize(f)(counts).sum()"
     ],
     "language": "python",
     "metadata": {},
     "outputs": [
      {
       "metadata": {},
       "output_type": "pyout",
       "prompt_number": 62,
       "text": [
        "3.0800000000000005"
       ]
      }
     ],
     "prompt_number": 62
    },
    {
     "cell_type": "code",
     "collapsed": false,
     "input": [
      "chi2.isf(0.05, df)"
     ],
     "language": "python",
     "metadata": {},
     "outputs": [
      {
       "metadata": {},
       "output_type": "pyout",
       "prompt_number": 63,
       "text": [
        "11.070497693516353"
       ]
      }
     ],
     "prompt_number": 63
    },
    {
     "cell_type": "markdown",
     "metadata": {},
     "source": [
      "\u7d50\u679c\u306f\u3069\u3046\u306a\u308a\u307e\u3057\u305f\u3067\u3057\u3087\u3046\u304b\uff1f\n",
      "\n",
      "\u7b54\u3048\uff1a\u8a08\u7b97\u3057\u305f $\\chi^2=3.08$ \u306b\u6bd4\u3079\u3066\u3001\u95be\u5024\u3068\u306a\u308b$\\chi^2$\u5024\u306f$11.07$\u3068\u5927\u304d\u3044\u3002\u5f93\u3063\u3066\u5e30\u7121\u4eee\u8aac\u306f\u68c4\u5374\u3055\u308c\u306a\u3044\u3002\u5b9f\u969b\u3001\u307b\u307c\u7b49\u9593\u9694\u3068\u8a00\u3048\u308b\u3002\uff08\u672c\u5f53\u306f\u691c\u51fa\u529b\u306e\u691c\u8a0e\u3092\u3059\u3079\u304d\u3067\u3042\u308b\u304c\uff09"
     ]
    },
    {
     "cell_type": "markdown",
     "metadata": {},
     "source": [
      "## scipy.stats \u30e9\u30a4\u30d6\u30e9\u30ea\u306e\u4f7f\u7528\n",
      "\n",
      "\u4e0a\u8a18\u306e\u3088\u3046\u306a\u8a08\u7b97\u306f\u30e9\u30a4\u30d6\u30e9\u30ea\u3092\u7528\u3044\u308c\u3070\u3082\u3063\u3068\u7c21\u5358\u306b\u8a08\u7b97\u3067\u304d\u307e\u3059\u3002\n",
      "\n",
      "scipy.stats.chisquare \u306e\u5f15\u6570\u306f\n",
      "* f_obs = \u6e2c\u5b9a\u5024\n",
      "* f_exp = \u7406\u8ad6\u5024 (\u7701\u7565\u3059\u308b\u3068\u7b49\u78ba\u7387\u6271\u3044\u3002\u4eca\u56de\u306f\u5b9f\u306f\u7701\u7565\u53ef\u80fd)\n",
      "* ddof = \u201cDelta degrees of freedom\u201d \u81ea\u7531\u5ea6\u304c \"(f_obs\u306e\u9577\u3055) - 1 - ddof\" \u3067\u8a08\u7b97\u3059\u308b\u3002\n",
      "* \u623b\u308a\u5024 = ($\\chi^2$, p\u5024)\u3002p\u5024\u306f\u305d\u306e\u3088\u3046\u306a\u5927\u304d\u306a$\\chi^2$\u304c\u5f97\u3089\u308c\u308b\u3088\u3046\u306a\u78ba\u7387\u3067\u3001 $\\text{p\u5024} \\leq 0.05$ \u306a\u3089\u3070 $\\chi^2$ \u304c\u5927\u304d\u3044\u305f\u3081\u3001\u7b49\u78ba\u7387\u3067\u3042\u308b\u3068\u3044\u3046\u4eee\u8aac\u306f\u68c4\u5374\u3059\u308b\u3002"
     ]
    },
    {
     "cell_type": "code",
     "collapsed": false,
     "input": [
      "from scipy.stats import chisquare\n",
      "expected = E * np.ones(counts.shape)\n",
      "chisquare(f_obs=counts, f_exp=expected, ddof=0)"
     ],
     "language": "python",
     "metadata": {},
     "outputs": [
      {
       "metadata": {},
       "output_type": "pyout",
       "prompt_number": 64,
       "text": [
        "(3.0800000000000005, 0.68765357316305398)"
       ]
      }
     ],
     "prompt_number": 64
    },
    {
     "cell_type": "markdown",
     "metadata": {},
     "source": [
      "\u540c\u3058\u7d50\u679c\u306b\u306a\u308a\u307e\u3057\u305f\u3067\u3057\u3087\u3046\u304b\uff1f"
     ]
    },
    {
     "cell_type": "markdown",
     "metadata": {},
     "source": [
      "## \u8ab2\u984c\uff12\uff1a\n",
      "\n",
      "\u6709\u540d\u306a\u30e1\u30f3\u30c7\u30eb\u306e\u30a8\u30f3\u30c9\u30a6\u30de\u30e1\u306e\u5b9f\u9a13\u30c7\u30fc\u30bf\u306f\u4e0b\u8a18\u306e\u901a\u308a\u3067\u3059\u3002\n",
      "\n",
      "| \u578b | \u9ec4\u8272\u30fb\u4e38\u3044 | \u9ec4\u8272\u30fb\u3057\u308f | \u7dd1\u8272\u30fb\u4e38\u3044 | \u7dd1\u8272\u30fb\u3057\u308f | \u5408\u8a08 |\n",
      "|:-------:|:-------:|:-------:|:-------:|:-------:|:---:|\n",
      "| \u5ea6\u6570 | 315 | 101 | 108 | 32 | 556 |\n",
      "\n",
      "\u30e1\u30f3\u30c7\u30eb\u306e\u6cd5\u5247\u304c\u306a\u308a\u305f\u3064\u306a\u3089\u3070\u3001\u4e0a\u8a18\u306e\u6bd4\u7387\u306f 9:3:3:1 \u306b\u306a\u308b\u306f\u305a\u3067\u3059\u3002$\\chi^2$ \u691c\u5b9a\u3092\u884c\u3044\u3001\u691c\u8a0e\u3057\u306a\u3055\u3044\u3002"
     ]
    },
    {
     "cell_type": "code",
     "collapsed": false,
     "input": [
      "# \u5b9f\u6e2c\u5024 \u30d9\u30af\u30c8\u30eb\u5024\u306f\u3053\u3093\u306a\u611f\u3058\u3067\u66f8\u3051\u308b\n",
      "obs = np.array([315.0, 101.0, 108.0, 32.0])\n",
      "exp = np.array([9.0, 3.0, 3.0, 1.0])*556/16 # *556/16 \u306e\u90e8\u5206\u306f\u5404\u8981\u7d20\u306b\u9069\u7528\u3055\u308c\u308b\n",
      "chisquare(f_obs=counts, f_exp=expected, ddof=0) # p=0.69 \u306a\u306e\u3067\u68c4\u5374\u3055\u308c\u306a\u3044\u30029:3:3:1\u306b\u3088\u304f\u9069\u5408\u3057\u3066\u3044\u308b"
     ],
     "language": "python",
     "metadata": {},
     "outputs": [
      {
       "metadata": {},
       "output_type": "pyout",
       "prompt_number": 65,
       "text": [
        "(3.0800000000000005, 0.68765357316305398)"
       ]
      }
     ],
     "prompt_number": 65
    },
    {
     "cell_type": "markdown",
     "metadata": {},
     "source": [
      "## \u5206\u5272\u8868\n",
      "\n",
      "$\\chi^2$ \u691c\u5b9a\u304c\u3088\u308a\u91cd\u8981\u306b\u306a\u308b\u306e\u306f\u3001\u5206\u5272\u8868\u3068\u3088\u3070\u308c\u308b\u8868\u306e\u9069\u5408\u5ea6\u691c\u5b9a\u3092\u884c\u3046\u5834\u5408\u3067\u3059\u3002\n",
      "\n",
      "\u5148\u306e\u30a8\u30f3\u30c9\u30a6\u30de\u30e1\u306e\u30c7\u30fc\u30bf\u3092\u3001\u6b21\u306e\u3088\u3046\u306b\u8aad\u307f\u66ff\u3048\u3066\u307f\u307e\u3057\u3087\u3046\u3002\n",
      "\u300c\u30a8\u30f3\u30c9\u30a6\u30de\u30e1\u306e\u8272\u306b\u3088\u3063\u3066\u3001\u5f62\u72b6\u306e\u6bd4\u7387\u306b\u5dee\u306f\u3042\u308b\u306e\u304b\uff1f\u300d\u3068\u3044\u3046\u5b9f\u9a13\u3060\u3063\u305f\u3001\u3068\u8003\u3048\u307e\u3059\u3002\n",
      "\n",
      "|     | \u4e38\u3044 | \u3057\u308f | \u5408\u8a08 |\n",
      "|:---:|:---:|:---:|:---:|\n",
      "| \u9ec4\u8272 | 315 | 101 | 416 |\n",
      "| \u7dd1\u8272 | 108 | 32 | 140 |\n",
      "| \u5408\u8a08 | 423 | 133 | 556 |\n",
      "\n",
      "\u540c\u3058\u3088\u3046\u306a\u8868\u306f\u3044\u304f\u3064\u3082\u8003\u3048\u3089\u308c\u307e\u3059\u3002\n",
      "\n",
      "* \u4e88\u9632\u63a5\u7a2e\u306e\u6709\u7121 vs \u767a\u75c7\u7387\n",
      "* \u5e83\u544a\u306e\u7a2e\u985e vs \u30af\u30ea\u30c3\u30af\u7387\n",
      "\n",
      "\u5b9f\u306f $2 \\times 2$ \u306e\u8868\u3067\u3042\u308c\u3070\u3001\u5148\u306b\u8ff0\u3079\u305f\u4e8c\u9805\u5206\u5e03\u306e\u691c\u5b9a\u3068\u3057\u3066\u6271\u3048\u308b\u306e\u3067\u3059\u304c\u3001\u4e00\u822c\u306b\n",
      "\n",
      "* {\u6761\u4ef6A1,A2,A3} $\\times$ {\u6761\u4ef6B1,B2,B3}\n",
      "* {\u6761\u4ef6A1,A2} $\\times$ {\u6761\u4ef6B1,B2,B3} $\\times$ {\u6761\u4ef6C1, C2}\n",
      "\n",
      "\u306a\u3069\u306a\u3069\u69d8\u3005\u306a\u6761\u4ef6\u3067\u306e\u5206\u5272\u8868\u3092\u8003\u3048\u308b\u3053\u3068\u304c\u3067\u304d\u307e\u3059\u3002\n",
      "\n",
      "\u30a8\u30f3\u30c9\u30a6\u30de\u30e1\u306e\u5834\u5408\u3001\u5e30\u7121\u4eee\u8aac\u3068\u3057\u3066\u300c$H_0$: \u8272\u3068\u5f62\u72b6\u306f\u72ec\u7acb\u3067\u3042\u308b\u3002\u3064\u307e\u308a p(\u8272,\u5f62\u72b6)=p(\u8272)p(\u5f62\u72b6) \u3092\u8003\u3048\u307e\u3059\u3002\n",
      "\u3053\u306e\u5834\u5408\u3001\u7e26\u6a2a\u306e\u5408\u8a08\u5024\u304c\u4e0e\u3048\u3089\u308c\u3066\u3044\u308b\u306e\u3067\u3001(\u9ec4\u8272\u3001\u4e38\u3044)\u306e\u6570\u3092\u6c7a\u3081\u308b\u3068\u3001\u6b8b\u308a\u306e\uff13\u3064\u306e\u5024\u306f\u81ea\u52d5\u7684\u306b\u6c7a\u307e\u308a\u307e\u3059\u3002\n",
      "\u3053\u306e\u3088\u3046\u306b $n \\times m$ \u306e\u5206\u5272\u8868\u306e\u81ea\u7531\u5ea6\u306f $(n-1)(m-1)$ \u3068\u306a\u308a\u307e\u3059\u3002\n",
      "\n",
      "\u3053\u306e\u8868\u306b\u95a2\u3057\u3066\u3001\u81ea\u5206\u3067\u5404\u30bb\u30eb\u306e\u7406\u8ad6\u5024\u3092\u6c42\u3081\u3066$\\chi^2$\u3092\u6c42\u3081\u3066\u3001\u3068\u3044\u3046\u624b\u9806\u3092\u8e0f\u3080\u3053\u3068\u3082\u3067\u304d\u307e\u3059\u304c\u3001\u5206\u5272\u8868\u306b\u5bfe\u3059\u308b\u30e9\u30a4\u30d6\u30e9\u30ea\u95a2\u6570\u304c\u7528\u610f\u3055\u308c\u3066\u3044\u307e\u3059\u3002\n",
      "scipy.stats.chi2_contingency\u3092\u4f7f\u3046\u3068\u7c21\u5358\u306b\u691c\u5b9a\u3067\u304d\u307e\u3059\u3002\n",
      "\n",
      "\u5f15\u6570\u306f\u96c6\u8a08\u8868\u306e $n \\times m$ \u306e\u90e8\u5206\n",
      "\u623b\u308a\u5024\u306f $\\chi^2$, p\u5024, \u81ea\u7531\u5ea6, \u7406\u8ad6\u5024\u3001\u3067\u3059\u3002"
     ]
    },
    {
     "cell_type": "code",
     "collapsed": false,
     "input": [
      "obs = np.array([[315, 101], [108, 32]])\n",
      "from scipy.stats import chi2_contingency\n",
      "chi2_contingency(obs)"
     ],
     "language": "python",
     "metadata": {},
     "outputs": [
      {
       "metadata": {},
       "output_type": "pyout",
       "prompt_number": 66,
       "text": [
        "(0.051331835746329567,\n",
        " 0.82076177622073843,\n",
        " 1,\n",
        " array([[ 316.48920863,   99.51079137],\n",
        "        [ 106.51079137,   33.48920863]]))"
       ]
      }
     ],
     "prompt_number": 66
    },
    {
     "cell_type": "markdown",
     "metadata": {},
     "source": [
      "p\u5024\u304c0.05\u4ee5\u4e0a\u306e\u305f\u3081\u5e30\u7121\u4eee\u8aac$H_0$\u306f\u68c4\u5374\u3055\u308c\u307e\u305b\u3093\u3002\u3064\u307e\u308a\u8272\u3068\u5f62\u72b6\u306f\u72ec\u7acb\u3067\u3042\u308b\u3068\u3044\u3046\u4eee\u5b9a\u306f\u826f\u3044\u30e2\u30c7\u30eb\u3067\u3042\u308b\u3001\u3068\u8a00\u3048\u307e\u3059\u3002"
     ]
    },
    {
     "cell_type": "markdown",
     "metadata": {},
     "source": [
      "### \u4f59\u8ac7\uff1b$2 \\times 2$ \u3067\u306e$\\chi^2$\u306e\u516c\u5f0f\n",
      "\n",
      "\u5206\u5272\u8868\u304c $$A = \\begin{pmatrix} a & b \\\\ c & d \\end{pmatrix}$$ \u3067\u8868\u73fe\u3067\u304d\u308b\u6642\u3001\n",
      "$$\\chi^2 = \\frac{s(\\det A)^2}{abcd}, \\; s = a + b + c + d, \\; \\det A = ad-bc$$\n",
      "\u3068\u884c\u5217\u5f0f $\\det A$ \u3092\u7528\u3044\u3066\u7c21\u5358\u306b\u66f8\u3051\u307e\u3059\u3002$\\det A = 0$\u3068\u3044\u3046\u306e\u306f$\\begin{pmatrix}a \\\\ c\\end{pmatrix}$, $\\begin{pmatrix}b \\\\ d\\end{pmatrix}$ \u304c\u4e00\u6b21\u5f93\u5c5e\u306b\u306a\u3063\u3066\u3044\u308b\u72b6\u614b\u3067\u3059\u304b\u3089\u3001\u7e26\u6a2a\u306e\u6761\u4ef6\u304c\u72ec\u7acb\u306b\u306a\u3063\u3066\u3044\u308b\u3068\u3044\u3046\u3053\u3068\u3092\u793a\u3057\u3066\u304a\u308a\u3001$\\chi^2 = 0$\u3068\u306a\u308b\u306e\u3082\u5f53\u7136\u3067\u3059\u3002"
     ]
    },
    {
     "cell_type": "markdown",
     "metadata": {},
     "source": [
      "### \u30a4\u30a7\u30fc\u30c4\u306e\u88dc\u6b63\n",
      "\n",
      "$2 \\times 2$ \u306e\u5206\u5272\u8868\u306b\u304a\u3044\u3066\u3001\uff14\u3064\u306e\u983b\u5ea6\u306e\u4e2d\u306b5\u4ee5\u4e0b\u306e\u3082\u306e\u304c\u3042\u308b\u5834\u5408\u306f\u3001\u30a4\u30a7\u30fc\u30c4\u306e\u88dc\u6b63\u3092\u3059\u3079\u304d\u3068\u3044\u3046\u3053\u3068\u306b\u306a\u3063\u3066\u3044\u307e\u3059\u3002\n",
      "\u305f\u3060\u3001chi2_contingency \u95a2\u6570\u306f\u30c7\u30d5\u30a9\u30eb\u30c8\u3067\u88dc\u6b63\u3092\u884c\u3044\u307e\u3059\u3002\uff08\u8a73\u3057\u304f\u306f\u30e9\u30a4\u30d6\u30e9\u30ea\u306e\u30c9\u30ad\u30e5\u30e1\u30f3\u30c8\u53c2\u7167\uff09\n",
      "\n",
      "\u8ab2\u984c\uff1a\u3069\u3093\u306a\u88dc\u6b63\u3092\u884c\u3046\u306e\u304b\u3001\u691c\u7d22\u3057\u3066\u8abf\u3079\u3066\u307f\u307e\u3057\u3087\u3046\u3002\u307e\u305f chi2_contingency \u306e\u30de\u30cb\u30e5\u30a2\u30eb\u3092\u898b\u3066\u307f\u307e\u3057\u3087\u3046\u3002\n",
      "\n",
      "\u56de\u7b54\uff1a\u5404\u81ea\u3001\u691c\u7d22\u3057\u3066\u304f\u3060\u3055\u3044\uff08\u3053\u3053\u3067\u306f\u8ee2\u8f09\u3057\u307e\u305b\u3093\uff09\u3002\u307e\u305f [chi2_contingency](http://docs.scipy.org/doc/scipy-0.14.0/reference/generated/scipy.stats.chi2_contingency.html) \u53c2\u7167"
     ]
    },
    {
     "cell_type": "markdown",
     "metadata": {},
     "source": [
      "## \u307e\u3068\u3081\n",
      "\n",
      "* $\\chi^2$ \u3068\u3044\u3046\u91cf\u306f\u3001\u6a19\u6e96\u6b63\u898f\u5206\u5e03\u306b\u5f93\u3046\u5909\u6570\u306e\u5206\u6563\u306e\u548c\u3067\u5b9a\u7fa9\u3055\u308c\u308b\u91cf\u3067\u3001\u305d\u306e\u5024\u3092\u7528\u3044\u3066 $\\chi^2$ \u691c\u5b9a\u3068\u8a00\u308f\u308c\u308b\u691c\u5b9a\u3092\u884c\u3046\u3053\u3068\u304c\u3067\u304d\u307e\u3059\u3002\n",
      "* \u8272\u3005\u306a\u7d71\u8a08\u91cf\u3092\u3001$\\chi^2$ \u3068\u3044\u3046\u91cf\u306b\u5e30\u7740\u3059\u308b\u3053\u3068\u304c\u51fa\u6765\u307e\u3059\u3002\u7279\u306b\u3001\u983b\u5ea6\u8868\u3084\u5206\u5272\u8868\u306e\u6570\u5b57\u306e\u7406\u8ad6\u5024\u304b\u3089\u306e\u305a\u308c\u3092\u691c\u5b9a\u3067\u304d\u308b\u306e\u304c\u91cd\u8981\u3067\u3059\u3002\n",
      "* \u6b8b\u5ff5\u306a\u304c\u3089\u3001$\\chi^2$ \u691c\u5b9a\u306b\u95a2\u3057\u3066\u306f\u308f\u304b\u308a\u3084\u3059\u3044\u691c\u51fa\u529b($\\beta$)\u3084\u3001\u5fc5\u8981\u3068\u3055\u308c\u308b\u30b5\u30f3\u30d7\u30eb\u6570\u306e\u516c\u5f0f\u306f\u898b\u5f53\u305f\u308a\u307e\u305b\u3093\u3002\n",
      "   + \u691c\u51fa\u3057\u305f\u3044\u4ea4\u4e92\u4f5c\u7528\u306e\u5927\u304d\u3055\u304c\u3042\u308b\u5834\u5408\u306f\u3001\u8a08\u7b97\u6a5f\u30b7\u30df\u30e5\u30ec\u30fc\u30b7\u30e7\u30f3\u3067\u691c\u51fa\u529b\u3092\u898b\u7a4d\u3082\u308b\u3001\u306e\u304c\u826f\u3044\u3067\u3057\u3087\u3046\u3002\n",
      "   + R \u306e\u65b9\u304c\u3001\u691c\u5b9a\u95a2\u4fc2\u306e\u7d71\u8a08\u30e9\u30a4\u30d6\u30e9\u30ea\u306f\u5145\u5b9f\u3057\u3066\u308b\u306e\u3067\u3001\u305d\u3061\u3089\u3067\u8a08\u7b97\u3059\u308b\u306e\u3082\u3042\u308a\u3067\u3059\u3002(pwr\u30e9\u30a4\u30d6\u30e9\u30ea\u3042\u305f\u308a\u3092\u53c2\u7167\uff09"
     ]
    },
    {
     "cell_type": "markdown",
     "metadata": {},
     "source": [
      "### \u8ab2\u984c\uff1a\n",
      "\n",
      "\u6771\u5927\u51fa\u7248\u4f1a\u300c\u81ea\u7136\u79d1\u5b66\u306e\u7d71\u8a08\u5b66\u300d p.153 \u306e\u8868\u306b\u3064\u3044\u3066\u3001$\\chi^2$\u691c\u5b9a\u3092\u884c\u3048\u3002\n",
      "\n",
      "| \u4e88\u9632\u6ce8\u5c04 \\ \u8178\u30c1\u30d5\u30b9 | \u304b\u304b\u3089\u306a\u3044 | \u304b\u304b\u3063\u305f |\n",
      "|:----:|:---:|:---:|\n",
      "| \u3057\u305f | 1625 | 5 |\n",
      "| \u3057\u306a\u3044 | 1022 | 11 |\n",
      "\n",
      "\u6b63\u89e3\u306f\u3001\u300c5%\u6709\u610f\u3067\u3001\u4e88\u9632\u6ce8\u5c04\u306e\u52b9\u679c\u306f\u3042\u308a\u300d\u3067\u3042\u308b\u3002"
     ]
    },
    {
     "cell_type": "code",
     "collapsed": false,
     "input": [
      "obs = np.array([[1625, 5], [1022, 11]])\n",
      "from scipy.stats import chi2_contingency\n",
      "chi2_contingency(obs) # p\u5024=0.027 < 0.05 \u3086\u3048\u3001\u5e30\u7121\u4eee\u8aac\u306f\u68c4\u5374\u3055\u308c\u308b\u3002\u3088\u3063\u3066\u52b9\u679c\u3042\u308a\u3002"
     ],
     "language": "python",
     "metadata": {},
     "outputs": [
      {
       "metadata": {},
       "output_type": "pyout",
       "prompt_number": 67,
       "text": [
        "(4.8816620295410686,\n",
        " 0.027143470897616286,\n",
        " 1,\n",
        " array([[ 1620.20653398,     9.79346602],\n",
        "        [ 1026.79346602,     6.20653398]]))"
       ]
      }
     ],
     "prompt_number": 67
    },
    {
     "cell_type": "markdown",
     "metadata": {},
     "source": [
      "### \u81ea\u7531\u8ab2\u984c\uff1a\n",
      "\n",
      "\u4f8b\u3048\u3070 $p_1=0.1, p_2=0.11$ \u306e\u30b1\u30fc\u30b9\u3067$\\alpha=0.05$ \u306e\u6642\u306b $\\beta=0.8$\u3068\u306a\u308b\u30b5\u30f3\u30d7\u30eb\u30b5\u30a4\u30ba\u3092\u8a08\u7b97\u6a5f\u30b7\u30df\u30e5\u30ec\u30fc\u30b7\u30e7\u30f3\u3067\u6c42\u3081\u306a\u3055\u3044\u3002\n",
      "\u78ba\u7387 $p_1, p_2$ \u3092\u8272\u3005\u5909\u3048\u3066\u78ba\u304b\u3081\u306a\u3055\u3044\u3002\n",
      "\n",
      "|     | \u30af\u30ea\u30c3\u30af | \u975e\u30af\u30ea\u30c3\u30af | \u5408\u8a08 |\n",
      "|:---:|:---:|:---:|:---:|\n",
      "| case 1 | $np_1$ | $n(1-p_1)$ | $n$ |\n",
      "| case 2 | $np_2$ | $n(1-p_2)$ | $n$ |\n",
      "| \u5408\u8a08 | $np_1 + np_2$ | $n(1-p_1) + n(1-p_2)$ | $2n$ |\n",
      "\n",
      "\u5fc5\u8981\u30b5\u30f3\u30d7\u30eb\u6570\u306f\u3001\u5206\u6563\u306b\u6bd4\u4f8b\u3057\u3001\u78ba\u7387\u306e\u5dee\u306e\u4e8c\u4e57\u306b\u53cd\u6bd4\u4f8b\u3059\u308b\u306f\u305a\u3001\u3068\u8003\u3048\u308b\u3068\n",
      "$$(\\alpha, \\beta \\text{\u3067\u6c7a\u307e\u308b\u5b9a\u6570}) \\times \\frac{p_1(1-p_1) + p_2(1-p_2)}{(p_1 - p_2)^2}$$\n",
      "\u306e\u3088\u3046\u306a\u91cf\u3067\u66f8\u3051\u308b\u306f\u305a\u3067\u3059\u3002\n",
      "\n",
      "#### \u56de\u7b54\uff08\uff06\u304a\u8a6b\u3073\uff09\uff1a\n",
      "\n",
      "\u3059\u307f\u307e\u305b\u3093\u3001\u3053\u306e\u554f\u984c\u306f $np_1$, $np_2$ \u3092\u72ec\u7acb\u306b\u30e9\u30f3\u30c0\u30e0\u306b\u9078\u3076\u306b\u3082\u95a2\u308f\u3089\u305a\u3001$2 \\times 2$\u306e\u5206\u5272\u8868\u3067\u8a08\u7b97\u3059\u308b\u3053\u3068\u306b\u306a\u3063\u3066\u3044\u3066\u3001\u554f\u984c\u3068\u3057\u3066\u4e0d\u9069\u5207\u3067\u3057\u305f\u3002\u7533\u3057\u8a33\u3042\u308a\u307e\u305b\u3093\u3002\n",
      "\n",
      "\u3053\u306e\u554f\u984c\u306b\u95a2\u3057\u3066\u306f\u3001`testing.ipynb` \u306e2\u6a19\u672c\u554f\u984c\u3067\u8003\u5bdf\u3059\u308b\u306e\u304c\u9069\u5207\u3067\u3059\u3002\u4ee5\u4e0b\u3001\u305d\u306e\u65b9\u6cd5\u3067\u691c\u51fa\u529b\u3092\u6c42\u3081\u3066\u307f\u307e\u3059\u3002"
     ]
    },
    {
     "cell_type": "code",
     "collapsed": false,
     "input": [
      "from scipy.stats import norm\n",
      "def b(n):\n",
      "    z = 1.645 - (0.011 - 0.01) / (np.sqrt(0.011*(1-0.011)/n) + np.sqrt(0.01*(1-0.01)/n))\n",
      "    return norm.sf(z)\n",
      "ns = np.array([10000, 15000, 20000, 30000, 50000, 70000, 100000, 150000, 200000, 300000, 500000, 700000, 1000000])\n",
      "plt.plot(ns, np.vectorize(b)(ns), \"o\")\n",
      "plt.xscale('log')"
     ],
     "language": "python",
     "metadata": {},
     "outputs": [
      {
       "metadata": {},
       "output_type": "display_data",
       "png": "[encoded data removed]",
       "text": [
        "<matplotlib.figure.Figure at 0x10a279950>"
       ]
      }
     ],
     "prompt_number": 68
    },
    {
     "cell_type": "markdown",
     "metadata": {},
     "source": [
      "\u30b0\u30e9\u30d5\u304b\u3089\u8aad\u3080\u3068 $n=250000$ \u7a0b\u5ea6\u5fc5\u8981\u305d\u3046\u3067\u3059\u3002\n",
      "\n",
      "\u533a\u5225\u304c\u3064\u304b\u306a\u3044\u5834\u5408\u3001\u5e73\u5747 $p=0.0105$, $N=250000$ \u306e 95% \u4fe1\u983c\u533a\u9593\u306f $0.0105 \\pm 0.0004$ \u3067\u3059\u3002$p=0.01, 0.011$ \u306e\u9593\u306b $1.96\\sigma$ \u304c\uff12\u3064\u5165\u3063\u3066\u5206\u96e2\u3059\u308b\u3068\u601d\u3046\u3068\u3001\u3053\u306e\u7a0b\u5ea6\u306e\u30b5\u30f3\u30d7\u30eb\u6570\u304c\u5fc5\u8981\u3068\u3044\u3046\u3053\u3068\u306a\u306e\u3067\u3057\u3087\u3046\u3002"
     ]
    },
    {
     "cell_type": "code",
     "collapsed": false,
     "input": [],
     "language": "python",
     "metadata": {},
     "outputs": [],
     "prompt_number": 68
    }
   ],
   "metadata": {}
  }
 ]
}