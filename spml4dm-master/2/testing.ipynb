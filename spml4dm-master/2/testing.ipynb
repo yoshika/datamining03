{
 "metadata": {
  "name": "",
  "signature": "sha256:6bb66ef56a430b6865a821008598df1102c02c70cb8171f47304290cc152237d"
 },
 "nbformat": 3,
 "nbformat_minor": 0,
 "worksheets": [
  {
   "cells": [
    {
     "cell_type": "markdown",
     "metadata": {},
     "source": [
      "\u6700\u521d\u306b\u8272\u3005 import \u3057\u3066\u304a\u304d\u307e\u3059\u3002"
     ]
    },
    {
     "cell_type": "code",
     "collapsed": false,
     "input": [
      "%matplotlib inline\n",
      "import numpy as np\n",
      "import matplotlib.pyplot as plt"
     ],
     "language": "python",
     "metadata": {},
     "outputs": [],
     "prompt_number": 16
    },
    {
     "cell_type": "markdown",
     "metadata": {},
     "source": [
      "## \u691c\u5b9a\u30fb\u6709\u610f\u6c34\u6e96\u30fb\u691c\u5b9a\u529b\n",
      "\n",
      "\u3053\u3053\u3067\u306f\u691c\u5b9a\u3001\u6709\u610f\u6c34\u6e96\u3001\u691c\u5b9a\u529b\u3001\u7b2c\uff11\u7a2e\u306e\u8aa4\u308a\u3001\u7b2c\uff12\u7a2e\u306e\u8aa4\u308a\u3001\u306a\u3069\u306b\u3064\u3044\u3066\u5b66\u3073\u307e\u3059\u3002\n",
      "\n",
      "\u4f55\u304b\u3092\u7d71\u8a08\u7684\u306b\u5224\u65ad\u3057\u305f\u3044\u6642\u306b\u306f\u3001\u691c\u5b9a\u3092\u884c\u3044\u307e\u3059\u3002\u4f8b\u3068\u3057\u3066\u300c\u65b0\u3057\u3044\u5e83\u544aA\u306e\u30af\u30ea\u30c3\u30af\u7387\u306f \u904e\u53bb\u306e\u30af\u30ea\u30c3\u30af\u7387\u3067\u3042\u308b $p_0 = 0.01$ \u3088\u308a\u5927\u304d\u3044\u300d\u3068\u8a00\u3048\u308b\u304b\u3001\u3068\u3044\u3046\u554f\u984c\u3092\u8003\u3048\u3066\u307f\u307e\u3057\u3087\u3046\u3002\u5e83\u544aA\u3092\u914d\u4fe1\u3057\u3066\u30af\u30ea\u30c3\u30af/\u975e\u30af\u30ea\u30c3\u30af\u306e\u56de\u6570\u3092\u6e2c\u5b9a\u3057\u305f\u30c7\u30fc\u30bf\u304c\u65e2\u306b\u3042\u308a\u3001\u5358\u7d14\u306b\u6bd4\u7387\u3092\u8a08\u7b97\u3057\u305f\u3089\u65e2\u77e5\u306e\u30af\u30ea\u30c3\u30af\u7387 $p_0$ (\u3053\u306e\u5024\u306f\u5341\u5206\u6b63\u78ba\u306b\u6e2c\u5b9a\u3055\u308c\u3066\u3044\u3066\u8aa4\u5dee\u306f\u8003\u3048\u306a\u3044)\u3088\u308a\u5927\u304d\u306a\u6570\u5b57\u3060\u3063\u305f\u3068\u3057\u307e\u3059\u3002\n",
      "\n",
      "\u7d71\u8a08\u5b66\u306b\u304a\u3051\u308b\u691c\u5b9a\u306f\u3001\u307e\u305a\u5e30\u7121\u4eee\u8aac $H_0$ \u3092\u4eee\u5b9a\u3057\u307e\u3059\u3002\u4e0a\u306e\u4f8b\u306e\u5834\u5408\u3001\u300cA\u306e\u65b9\u304c\u52b9\u679c\u304c\u9ad8\u3044/\u4f4e\u3044\u300d\u3068\u4e8c\u629e\u306b\u3059\u308b\u3068\u3001\u78ba\u7387\u3092\u8a08\u7b97\u3059\u308b\u306e\u304c\u9762\u5012\u306a\u306e\u3067\u3001\u300c$H_0$: $p = p_0$\u300d\u300c$H_1$: $p>p_0$\u300d\u3068\u9078\u3073\u307e\u3059\u3002($p < p_0$ \u306e\u53ef\u80fd\u6027\u306f\u7121\u3044\u3068\u4eee\u5b9a\u3057\u307e\u3059\u3002\u3053\u308c\u3092\u7247\u5074\u691c\u5b9a\u3068\u3044\u3044\u307e\u3059\u3002)\n",
      "\n",
      "\u5e30\u7121\u4eee\u8aac $H_0$\uff1a$p=p_0$ \u306e\u5143\u3067\u3001\u671f\u5f85\u3055\u308c\u308b\u30af\u30ea\u30c3\u30af\u56de\u6570\u306e\u5206\u5e03\u3092\u8003\u3048\u307e\u3059\u3002\u3053\u308c\u306f\u4e8c\u9805\u5206\u5e03\u306b\u306a\u308a\u307e\u3059\u304c\u3001\u56de\u6570\u304c\u591a\u3044\u5834\u5408\u306f\u4e8c\u9805\u5206\u5e03\u3092\u6b63\u898f\u5206\u5e03\u3067\u8fd1\u4f3c\u3067\u304d\u307e\u3059\u3002\n",
      "\n",
      "\u8a66\u3057\u306b1000\u56de\u306e\u5e83\u544a\u914d\u4fe1\u3092\u884c\u3063\u305f\u969b\u306e\u30af\u30ea\u30c3\u30af\u56de\u6570\u5206\u5e03\u3092\u8a08\u7b97\u3057\u3066\u307f\u307e\u3057\u3087\u3046\u3002\n",
      "\n",
      "\u8a66\u884c\u56de\u6570 $N$, \u78ba\u7387 $p_0$ \u306e\u4e8c\u9805\u5206\u5e03\u306f\u4e0b\u8a18\u306e\u3088\u3046\u306a\u5f0f\u3067\u3059\u3002$N$\u56de\u306e\u4e2d\u3067$x$\u56de\u8d77\u304d\u308b\u78ba\u7387\u306f\u3001\n",
      "$$\\mathrm{Binom}(N,p_0)(x) = \\frac{N!}{x!(N-x)!}p_0^x(1-p_0)^{N-x}$$\n",
      "\u3053\u308c\u306f\u5e73\u5747 $Np_0$, \u5206\u6563 $Np_0(1-p_0)$ \u306e\u6b63\u898f\u5206\u5e03\u3067\u8fd1\u4f3c\u3055\u308c\u307e\u3059\u3002"
     ]
    },
    {
     "cell_type": "code",
     "collapsed": false,
     "input": [
      "from scipy.stats import binom  # \u4e8c\u9805\u5206\u5e03\n",
      "from scipy.stats import norm   # \u6b63\u898f\u5206\u5e03\n",
      "xp1 = np.linspace(0, 20, 21)   # \u4e8c\u9805\u5206\u5e03\u7528\u306ex\u5ea7\u6a19\n",
      "xp2 = np.linspace(0, 20, 101)  # \u6b63\u898f\u5206\u5e03\u7528\u306ex\u5ea7\u6a19\n",
      "# \u8fd1\u4f3c\u3057\u305f\u6b63\u898f\u5206\u5e03\u306e\u6a19\u6e96\u504f\u5dee\n",
      "s = np.sqrt(1000*0.01*0.99)\n",
      "# \u4e8c\u9805\u5206\u5e03\u306e\u78ba\u7387\u8cea\u91cf\u95a2\u6570 pmf(x, N, p)\n",
      "# \u6b63\u898f\u5206\u5e03\u306e\u78ba\u7387\u5206\u5e03\u95a2\u6570 pdf(x, loc=\u5e73\u5747, scale=\u6a19\u6e96\u504f\u5dee)\n",
      "plt.plot(xp1, binom.pmf(xp1, 1000, 0.01), \"ro\",   \n",
      "         xp2, norm.pdf(xp2, loc=1000*0.01, scale=s), \"b\")\n",
      "plt.ylim(0, 0.14)\n",
      "# 95% \u306e\u7bc4\u56f2\u3092\u56f3\u306b\u8868\u793a\n",
      "plt.fill_between((0, 10+1.645*s), (0.14, 0.14), facecolor='yellow', alpha=0.3)"
     ],
     "language": "python",
     "metadata": {},
     "outputs": [
      {
       "metadata": {},
       "output_type": "pyout",
       "prompt_number": 17,
       "text": [
        "<matplotlib.collections.PolyCollection at 0x109cac7d0>"
       ]
      },
      {
       "metadata": {},
       "output_type": "display_data",
       "png": "[encoded data removed]",
       "text": [
        "<matplotlib.figure.Figure at 0x1099b1750>"
       ]
      }
     ],
     "prompt_number": 17
    },
    {
     "cell_type": "markdown",
     "metadata": {},
     "source": [
      "\u3082\u3057\u5e30\u7121\u4eee\u8aac\u304c\u6b63\u3057\u3044\u306a\u3089\u3070\u3001\u6e2c\u5b9a\u3055\u308c\u305f\u30af\u30ea\u30c3\u30af\u56de\u6570\u306f\u671f\u5f85\u5024\u306e10\u56de\u524d\u5f8c\u306e\u5024\u306b\u306a\u308b\u3068\u671f\u5f85\u3055\u308c\u307e\u3059\u3002\u4eee\u306b\u30af\u30ea\u30c3\u30af\u56de\u6570\u304c20\u56de\u8fd1\u3044\u306a\u3089\u3070\u3001\u305d\u3093\u306a\u307e\u308c\u306b\u3057\u304b\u8d77\u304d\u306a\u3044\u3088\u3046\u306a\u51fa\u6765\u4e8b\u304c\u8d77\u304d\u305f\u3001\u3068\u8003\u3048\u308b\u3088\u308a\u306f\u3001\u5e30\u7121\u4eee\u8aac\u306f\u6b63\u3057\u304f\u306a\u304b\u3063\u305f\u3001\u3068\u8003\u3048\u308b\u3053\u3068\u306b\u3057\u307e\u3057\u3087\u3046\u3002\n",
      "\n",
      "\u300c\u307e\u308c\u306b\u3057\u304b\u8d77\u304d\u306a\u3044\u300d\u3067\u306f\u6570\u5024\u7684\u306b\u5224\u65ad\u3067\u304d\u306a\u3044\u306e\u3067\u30015% \u4ee5\u4e0b\u3067\u8d77\u304d\u308b\u4e8b\u3001\u3068\u5224\u65ad\u3057\u307e\u3059\u3002\u6b63\u898f\u5206\u5e03\u306e\u5834\u5408\u3001$\\mu + 1.645 \\sigma$ \u4ee5\u4e0b\u306e\u5024(\u4e0a\u306e\u56f3\u3067\u9ec4\u8272\u306e\u7bc4\u56f2)\u3092\u3068\u308b\u78ba\u7387\u304c 95% \u3067\u3059\u3002\n",
      "\n",
      "\u5f93\u3063\u3066\u300116\u56de\u4ee5\u4e0a\u30af\u30ea\u30c3\u30af\u3055\u308c\u3066\u3044\u308b\u306a\u3089\u3070\u3001\u5e30\u7121\u4eee\u8aac $H_0$ \u306f\u3042\u308a\u305d\u3046\u306b\u306a\u3044\u4e8b\u67c4\u3068\u3057\u3066\u68c4\u5374\u3057\u3066\u3082\u826f\u3044\u3067\u3057\u3087\u3046\u3002\n",
      "\u3053\u308c\u3092\u3001\u300c\u6709\u610f\u6c34\u6e96 5% \u3067\u7247\u5074\u691c\u5b9a\u3057\u305f\u7d50\u679c\u3001\u5e30\u7121\u4eee\u8aac $H_0$ \u3092\u68c4\u5374\u3057\u305f\u300d\u3068\u8a00\u3044\u307e\u3059\u3002\n",
      "\n",
      "\u9006\u306b $0 \\sim 15$ \u56de\u306e\u5834\u5408\u306f\u3001$H_0$ \u306e\u5143\u3067\u3082\u8d77\u304d\u305d\u3046\u306a\u4e8b\u67c4\u3068\u8003\u3048\u3001$H_0$ \u306f\u68c4\u5374\u3057\u307e\u305b\u3093\u3002\u5dee\u304c\u3042\u308b\u3068\u306f\u8a00\u3048\u306a\u3044\u3001\u3068\u8003\u3048\u307e\u3059\u3002"
     ]
    },
    {
     "cell_type": "markdown",
     "metadata": {},
     "source": [
      "### \u3088\u308a\u4e00\u822c\u7684\u306b\n",
      "\n",
      "\u4e0a\u8a18\u306e\u554f\u984c\u3092\u3001\u3088\u308a\u4e00\u822c\u7684\u306a\u8b70\u8ad6\u304c\u3057\u3084\u3059\u3044\u3088\u3046\u306b\u5909\u6570\u5909\u63db\u3092\u7528\u3044\u3066\u6b63\u898f\u5316\u3057\u3066\u8b70\u8ad6\u3059\u308b\u3053\u3068\u306b\u3057\u307e\u3057\u3087\u3046\u3002\n",
      "\n",
      "\u78ba\u7387\u5909\u6570 $X$ \u304c\u6b63\u898f\u5206\u5e03 $\\mathcal{N}(\\mu, \\sigma^2)$ \u306b\u5f93\u3046\u3068\u304d\u3001\u6b63\u898f\u5316\n",
      "$$ Z = \\frac{X - \\mu}{\\sigma}$$\n",
      "\u3068\u3059\u308b\u3068\u3001\u78ba\u7387\u5909\u6570 $Z$ \u306f\u6a19\u6e96\u6b63\u898f\u5206\u5e03 $\\mathcal{N}(0, 1)$ \u306b\u5f93\u3044\u307e\u3059\u3002\u3053\u306e\u6642\u3001$Z$\u304c 1.645 \u4ee5\u4e0a\u3068\u306a\u308b\u78ba\u7387\u306f\n",
      "$P(Z > 1.645) = 0.05$\u3067\u3059\u3002\n",
      "\n",
      "\u5f93\u3063\u3066\u4eca\u56de\u306e\u5834\u5408\u3001$$z = \\frac{\\text{x} - Np_0}{\\sqrt{Np_0(1-p_0)}} = \\frac{p - p_0}{\\sqrt{\\frac{p_0(1-p_0)}{N}}}, \\; N=10000, \\; p_0 = 0.01$$ \u3068\u5909\u6570\u5909\u63db\u3057\u3066 $z < 1.645$ \u3067\u3042\u308c\u3070\u3001\u6709\u610f\u6c34\u6e96 0.05 \u306e\u7247\u5074\u691c\u5b9a\u3067\u5e30\u7121\u4eee\u8aac\u3092\u68c4\u5374\u3057\u306a\u3044\u3001\u3068\u306a\u308a\u307e\u3059\u3002 \n",
      "\n",
      "\u6ce8\u610f\uff1a\u4e0a\u8a18\u306e\u5f0f\u304b\u3089 $p - p_0$ \u306e\u5dee\u3092\u898b\u5206\u3051\u308b\u529b\u306f $\\sqrt{N}$ \u306b\u6bd4\u4f8b\u3057\u3066\u5927\u304d\u304f\u306a\u308a\u307e\u3059\u3002\u4e00\u822c\u306b\u6709\u52b9\u6570\u5b57\u3092\uff11\u6841\u5897\u3084\u3059\u306b\u306f\u30b5\u30f3\u30d7\u30eb\u6570\u304c100\u500d\u5fc5\u8981\u306b\u306a\u308b\u3001\u3068\u3044\u3046\u306e\u304c\u5224\u308b\u304b\u3068\u601d\u3044\u307e\u3059\u3002\n",
      "\n",
      "#### 95%\u4fe1\u983c\u533a\u9593\n",
      "\n",
      "\u5b9f\u9a13\u304b\u3089\u6c42\u3081\u305f $p$ \u306e\u5024\u81ea\u8eab\u3092\u8b70\u8ad6\u3059\u308b\u969b\u306b\u306f\u3001$p$ \u306e\u5024\u304c\u542b\u307e\u308c\u308b\u3068\u63a8\u5b9a\u3055\u308c\u308b\u7bc4\u56f2\u3001\u3068\u3044\u3046\u5f62\u3067\u8b70\u8ad6\u3057\u307e\u3059\u3002\n",
      "\n",
      "\u3053\u306e\u5834\u5408\u306f\u4e21\u5074\u691c\u5b9a\u7684\u306a\u8003\u3048\u65b9\u3001\u3064\u307e\u308a\u6b63\u898f\u5206\u5e03\u306b\u5f93\u3046\u306a\u3089\u3070 $$(\\mu-1.96\\sigma, \\mu+1.96\\sigma)$$ \u306e\u7bc4\u56f2\u306b 95% \u306e\u78ba\u7387\u3067\u542b\u307e\u308c\u308b\u3068\u8003\u3048\u307e\u3059\u3002\n",
      "\n",
      "\u4f8b\u3048\u3070 1000 \u56de\u4e2d\u300114\u56de\u3067\u3042\u308c\u3070\u3001$$\\mu = 14/1000=0.014, \\sigma=\\sqrt{0.014*(1-0.014)/1000}=0.0037$$\n",
      "\u5f93\u3063\u3066\u3001$(0.014-1.96 \\times 0.0037, 0.014+1.96 \\times 0.0037) = (0.007, 0.021)$ \u3068\u306a\u308a\u307e\u3059\u3002\n",
      "\n",
      "\u3053\u306e $(0.007, 0.0021)$ \u3042\u308b\u3044\u306f $0.014 \\pm 0.007$ \u3068\u3044\u3046\u7bc4\u56f2\u309295%\u4fe1\u983c\u533a\u9593\u3068\u3044\u3044\u307e\u3059\u3002\u771f\u306e\u5024\u304c\u3053\u306e\u7bc4\u56f2\u306b\u542b\u307e\u308c\u308b\u78ba\u7387\u306f95%\u3067\u3042\u308b\u3001\u3068\u3044\u3046\u610f\u5473\u3067\u3059\u3002\n",
      "\n",
      "\u691c\u5b9a\u306f\u8272\u3005\u96e3\u3057\u3044\u8a71\u304c\u3042\u308a\u3001\u6e2c\u5b9a\u5024\u306b\u95a2\u3057\u3066\u306f\u5358\u306b95%\u4fe1\u983c\u533a\u9593\u3060\u3051\u3092\u8b70\u8ad6\u3059\u308b\u65b9\u304c\u697d\u306a\u306e\u3067\u3059\u304c\u3001\u300c\u52b9\u679c\u306e\u6709\u7121\u3060\u3051\u3092\u805e\u304d\u305f\u3044\u300d\u3068\u3044\u3046\u4eba\u306b95%\u4fe1\u983c\u533a\u9593\u306e\u8a71\u3092\u3059\u308b\u8a33\u306b\u306f\u3044\u304b\u306a\u3044\u306e\u3067\u3001\u691c\u5b9a\u306f\u691c\u5b9a\u3067\u52c9\u5f37\u3059\u308b\u5fc5\u8981\u304c\u3042\u308a\u307e\u3059\u3002"
     ]
    },
    {
     "cell_type": "markdown",
     "metadata": {},
     "source": [
      "## \u7b2c\uff11\u7a2e\u306e\u8aa4\u308a\u3001\u7b2c\uff12\u7a2e\u306e\u8aa4\u308a\n",
      "\n",
      "\u3055\u3066\u3001\u5e83\u544aA\u306e\u30af\u30ea\u30c3\u30af\u78ba\u7387\u304c\u672c\u5f53\u306b 0.01 \u3067\u3042\u3063\u305f\u3068\u3057\u307e\u3057\u3087\u3046\u3002\u4e0a\u306e\u8b70\u8ad6\u304b\u3089\u3001\u672c\u5f53\u306b 0.01 \u3067\u3042\u3063\u305f\u3068\u3057\u3066\u3082\u3001\u6b63\u898f\u5206\u5e03\u306b\u5f93\u3046\u306a\u3089\u3070\u3001 $z > 1.645$ \u306e\u7bc4\u56f2\u5916\u306e\u6975\u7aef\u306a\u5024\u3092\u3068\u308b\u78ba\u7387\u304c 5% \u3042\u308a\u307e\u3059\u3002\u3064\u307e\u308a\u3001\u672c\u5f53\u306f 0.01 \u3068\u5dee\u304c\u306a\u304b\u3063\u305f\u5834\u5408\u3067\u3082\u3001\u300c0.01 \u3067\u3042\u308b\u300d\u3068\u3044\u3046\u4eee\u8aac\u3092\u68c4\u5374\u3059\u308b\u78ba\u7387\u304c 5% \u3042\u308a\u307e\u3059\u3002\n",
      "\n",
      "\u3053\u306e\u3088\u3046\u306b\u3001\u68c4\u5374\u3059\u3079\u304d\u3067\u306a\u3044\u5e30\u7121\u4eee\u8aac\u3092\u9593\u9055\u3063\u3066\u68c4\u5374\u3057\u3066\u3057\u307e\u3046\u8aa4\u308a\u3092\u3001\u300c\u7b2c\uff11\u7a2e\u306e\u8aa4\u308a\u300d\u3068\u8a00\u3044\u307e\u3059\u3002\n",
      "\n",
      "\u9006\u306b\u3001\u672c\u5f53\u306f\u30af\u30ea\u30c3\u30af\u7387\u304c 0.01 \u3067\u306f\u7121\u304b\u3063\u305f\u3068\u3057\u3066\u3082\u3001\u305f\u307e\u305f\u307e\u30af\u30ea\u30c3\u30af\u56de\u6570\u304c$z < 1.645$ \u56de\u306e\u5834\u5408\u306f$H_0$\u306f\u68c4\u5374\u3055\u308c\u307e\u305b\u3093\u3002\u3053\u306e\u3088\u3046\u306b\u3001\u68c4\u5374\u3059\u3079\u304d\u5e30\u7121\u4eee\u8aac\u3092\u9593\u9055\u3063\u3066\u68c4\u5374\u3067\u304d\u306a\u3044\u8aa4\u308a\u3092\u3001\u300c\u7b2c\uff12\u7a2e\u306e\u8aa4\u308a\u300d\u3068\u8a00\u3044\u307e\u3059\u3002\n",
      "\n",
      "| \u691c\u5b9a \\\\ \u771f\u5b9f  | \u5e30\u7121\u4eee\u8aac\u306f\u6b63\u3057\u3044 | \u5e30\u7121\u4eee\u8aac\u306f\u6b63\u3057\u304f\u306a\u3044 |\n",
      "|:---:|:---:|:---:|\n",
      "| \u5e30\u7121\u4eee\u8aac\u3092\u68c4\u5374\u3057\u306a\u3044 | \u6b63\u3057\u3044($1-\\alpha$) |\u3000\u7b2c\uff12\u7a2e\u306e\u8aa4\u308a($1-\\beta$) |\n",
      "| \u5e30\u7121\u4eee\u8aac\u3092\u68c4\u5374\u3059\u308b | \u7b2c\uff11\u7a2e\u306e\u8aa4\u308a(\u6709\u610f\u6c34\u6e96 $\\alpha$) | \u6b63\u3057\u3044(\u691c\u51fa\u529b $\\beta$) |\n",
      "\n",
      "\u5b9f\u9a13\u6761\u4ef6(\u30b5\u30f3\u30d7\u30eb\u6570)\u3092\u56fa\u5b9a\u3059\u308b\u3068\u3001\u7b2c\uff11\u7a2e\u306e\u8aa4\u308a\u3068\u3001\u7b2c\uff12\u7a2e\u306e\u8aa4\u308a\u3001\u306f\u30c8\u30ec\u30fc\u30c9\u30aa\u30d5\u306e\u95a2\u4fc2\u306b\u3042\u308a\u307e\u3059\u3002\n",
      "\u3080\u3084\u307f\u306b $\\alpha$ \u3092\u5c0f\u3055\u304f\u3059\u308b\u3068\u3001\u7b2c\uff11\u7a2e\u306e\u8aa4\u308a\u306f\u6e1b\u308a\u307e\u3059\u304c\u3001\u7b2c\uff12\u7a2e\u306e\u8aa4\u308a $1-\\beta$ \u306f\u5897\u3048\u307e\u3059\u3002\n",
      "\u4e21\u65b9\u306e\u8aa4\u308a\u3092\u6e1b\u3089\u3057\u305f\u3044\u306a\u3089\u3070\u3001\u30b5\u30f3\u30d7\u30eb\u6570\u3092\u5897\u3084\u3059\u5fc5\u8981\u304c\u3042\u308a\u307e\u3059\u3002\n",
      "\n",
      "\u691c\u51fa\u529b\u304c\u4f4e\u3044\u3001\u3068\u3044\u3046\u306e\u306f\u5b9f\u306f\u5927\u304d\u306a\u554f\u984c\u3067\u3059\u3002\u771f\u5b9f\u304c\u300c\u5e30\u7121\u4eee\u8aac\u304c\u6b63\u3057\u304f\u306a\u3044\u300d\u3060\u3063\u305f\u5834\u5408\uff1a\n",
      "* \u691c\u51fa\u529b\u304c50%\u3092\u5207\u308b\u3053\u3068\u306f\u3001\u30b3\u30a4\u30f3\u6295\u3052\u3067\u68c4\u5374\u3059\u308b\u304b\u5426\u304b\u6c7a\u3081\u305f\u65b9\u304c\u307e\u3057\n",
      "* \u300c\u6709\u610f\u5dee\u304c\u306a\u3044\u3068\u5224\u65ad\u3057\u305f\u300d $\\Rightarrow$ \u300c\u5dee\u304c\u306a\u3044\u306a\u3089\u30b3\u30b9\u30c8\u306e\u5b89\u3044\u65b9\u3092\u9078\u307c\u3046\u300d $\\Rightarrow$ \u300c\u672c\u5f53\u306f\u3042\u3063\u305f\u5dee\u306b\u6c17\u3065\u304b\u306a\u304b\u3063\u305f$\\cdots$\u300d \n",
      "\n",
      "\u4e00\u65b9\u3067\u3001\u3080\u3084\u307f\u306b\u30b5\u30f3\u30d7\u30eb\u6570\u3092\u5897\u3084\u3059\u3068\u3001\n",
      "* \u5b9f\u8cea\u7684\u306a\u5dee\u304c\u306a\u3044\u5834\u5408\u3067\u3082\u6709\u610f\u5dee\u304c\u51fa\u3066\u3057\u307e\u3063\u305f\u308a\u3057\u307e\u3059\u3002\n",
      "* \u305d\u3082\u305d\u3082\u30b5\u30f3\u30d7\u30eb\u6570\u3092\u5897\u3084\u3059\u306b\u306f\u3001\u30b3\u30b9\u30c8\u304c\u304b\u304b\u308b\n",
      "    \n",
      "\u305d\u3053\u3067\u300c\u3069\u306e\u304f\u3089\u3044\u306e\u5dee\u3092\u691c\u51fa\u3057\u305f\u3044\u304b\u8003\u3048\u3001\u9069\u5207\u306a\u30b5\u30f3\u30d7\u30eb\u6570\u3092\u6c42\u3081\u3066\u3001\u305d\u306e\u5f8c\u3067\u5b9f\u9a13\u3059\u308b\u300d\u3068\u3044\u3046\n",
      "\u5b9f\u9a13\u8a08\u753b\u304c\u6700\u8fd1\u3067\u306f\u6c42\u3081\u3089\u308c\u308b\u3088\u3046\u3067\u3059\u3002\n"
     ]
    },
    {
     "cell_type": "markdown",
     "metadata": {},
     "source": [
      "## \u691c\u51fa\u529b\n",
      "\n",
      "\u5e83\u544aA\u306e\u30af\u30ea\u30c3\u30af\u7387 $p$ \u306b\u5bfe\u3057\u3066\u3001\u5e30\u7121\u4eee\u8aac $H_0: p=p_0$ \u3092\u68c4\u5374\u3059\u308b\u78ba\u7387\u3092\u691c\u51fa\u529b $\\beta(p)$ \u3068\u547c\u3076\u3053\u3068\u306b\u3057\u307e\u3059\u3002\n",
      "$p$ \u304c\u5927\u304d\u3051\u308c\u3070 $\\beta(p)$ \u306f\u5927\u304d\u304f\u306a\u308a\u307e\u3059\u3002\n",
      "\n",
      "\u6b63\u898f\u5206\u5e03\u306e\u7d2f\u7a4d\u5bc6\u5ea6\u95a2\u6570 $\\Phi(z)$ \u3092\n",
      "$$\\Phi(z) = \\frac{1}{\\sqrt{2\\pi}}\\int_{-\\infty}^z \\exp\\left(-\\frac{u^2}{2}\\right)du, \\;\\; \\Phi(z_{\\alpha}) = 1-\\alpha$$\n",
      "\u3068\u5b9a\u7fa9\u3059\u308b\u3068\u3001\u691c\u51fa\u529b\u306f\n",
      "$$\\begin{eqnarray*} \\beta(p) &=& \\mathrm{Prob}_p(z > z_{\\alpha}) \\;\\;\\;\\; \\text{#}\\; z>z_{\\alpha}\\text{\u306a\u3089\u3070\u68c4\u5374} \\\\\n",
      "&=& \\mathrm{Prob}_p(z_{\\alpha} < \\frac{\\sqrt{N}(\\hat{p}-p_0)}{\\sqrt{p_0(1-p_0)}})\n",
      "\\end{eqnarray*}$$\n",
      "\u3053\u3053\u3067\u3001$$Z = \\frac{\\sqrt{N}(\\hat{p}-p)}{\\sqrt{p(1-p)}}$$\u304c\u6b63\u898f\u5206\u5e03\u306b\u5f93\u3044\u3001\n",
      "$$\\frac{\\sqrt{N}(\\hat{p}-p_0)}{\\sqrt{p_0(1-p_0)}} > z_\\alpha \\Longleftrightarrow \n",
      "Z > \\frac{z_\\alpha\\sqrt{p_0(1-p_0)} - \\sqrt{N}(p-p_0)}{\\sqrt{p(1-p)}}$$\n",
      "\u3068\u4e0d\u7b49\u5f0f\u306e\u5909\u5f62\u3092\u7528\u3044\u308b\u3068\u3001\n",
      "$$\\beta(p) = 1 - \\Phi\\left(\\frac{z_\\alpha\\sqrt{p_0(1-p_0)} - \\sqrt{N}(p-p_0)}{\\sqrt{p(1-p)}}\\right)$$\n",
      "\u3068\u306a\u308a\u307e\u3059\u3002(\u3053\u306e\u8fba\u306e\u8a71\u306f\u3001\u6771\u5927\u51fa\u7248\u4f1a\u300c\u81ea\u7136\u79d1\u5b66\u306e\u7d71\u8a08\u5b66\u300dp.192\u3042\u305f\u308a\u3092\u53c2\u7167)\n",
      "\n",
      "\u3067\u306f\u3001\u69d8\u3005\u306a $p$ \u306e\u5024\u306b\u5bfe\u3057\u3066\u3001\u691c\u51fa\u529b $\\beta(p)$ \u3092\u8a08\u7b97\u3057\u3066\u307f\u307e\u3057\u3087\u3046\u3002"
     ]
    },
    {
     "cell_type": "code",
     "collapsed": false,
     "input": [
      "xp = np.linspace(0.01, 0.03, 21)\n",
      "def beta(p, p0, N):\n",
      "    z = (1.645*np.sqrt(p0*(1-p0)) - np.sqrt(N)*(p-p0))/np.sqrt(p*(1.0-p))\n",
      "    return norm.sf(z) # sf = 1 - cdf\n",
      "def beta1(p):\n",
      "    return beta(p, 0.01, 1000.0)\n",
      "plt.plot(xp, np.vectorize(beta1)(xp), \"ro\")"
     ],
     "language": "python",
     "metadata": {},
     "outputs": [
      {
       "metadata": {},
       "output_type": "pyout",
       "prompt_number": 18,
       "text": [
        "[<matplotlib.lines.Line2D at 0x109cfb550>]"
       ]
      },
      {
       "metadata": {},
       "output_type": "display_data",
       "png": "[encoded data removed]",
       "text": [
        "<matplotlib.figure.Figure at 0x1099bb450>"
       ]
      }
     ],
     "prompt_number": 18
    },
    {
     "cell_type": "markdown",
     "metadata": {},
     "source": [
      "\u691c\u51fa\u529b\u306f $\\beta=0.8$ \u7a0b\u5ea6\u306f\u6b32\u3057\u3044\u3068\u8003\u3048\u307e\u3059(\u306a\u305c $\\beta=0.95$ \u3067\u306a\u3044\u306e\u304b\u3068\u3044\u3046\u3068\u3001\u5927\u62b5\u306e\u30b1\u30fc\u30b9\u3067\u306f\u3001\u7b2c\uff12\u7a2e\u306e\u8aa4\u308a\u306e\u65b9\u304c\u554f\u984c\u306b\u306a\u308a\u306b\u304f\u3044\u3068\u8003\u3048\u3089\u308c\u308b\u304b\u3089\u3067\u3059\u3002\u3057\u304b\u3057\u7b2c\uff12\u7a2e\u306e\u8aa4\u308a\u3082\u91cd\u5927\u306a\u5f71\u97ff\u304c\u3042\u308b\u306a\u3089\u3070 $\\beta=0.95$ \u3092\u691c\u8a0e\u3057\u3066\u304f\u3060\u3055\u3044)\u3002\n",
      "\n",
      "\u3059\u308b\u3068\u3001\u30b0\u30e9\u30d5\u304b\u3089\u6570\u5024\u3092\u8aad\u307f\u53d6\u308b\u3068$p = 0.02$ \u7a0b\u5ea6\u306f\u5fc5\u8981\u3060\u3068\u308f\u304b\u308a\u307e\u3059\u3002\u3064\u307e\u308a\u3053\u306e\u5b9f\u9a13\u6761\u4ef6$N=1000, p=0.01, \\alpha=0.05$ \u3068\u3044\u3046\u6761\u4ef6\u306e\u3082\u3068\u3067\u306f\u3001\u5143\u306e\u5024 $p_0 = 0.01$ \u306b\u5bfe\u3057\u3066\u3001$p - p_0 = 0.01$ \u7a0b\u5ea6\u306e\u5909\u5316\u304c\u306a\u3051\u308c\u3070\u3001\u7b2c\uff12\u7a2e\u306e\u8aa4\u308a\u3092\u8d77\u3053\u3057\u3084\u3059\u3044\u3001\u68c4\u5374\u3059\u3079\u304d$H_0$\u3092\u68c4\u5374\u3059\u308b\u306e\u306b\u5931\u6557\u3059\u308b\u3001\u3068\u3044\u3046\u3053\u3068\u3067\u3059\u3002"
     ]
    },
    {
     "cell_type": "markdown",
     "metadata": {},
     "source": [
      "$\\beta(p)$ \u306e\u516c\u5f0f\u3092\u9006\u306b\u3068\u3051\u3070\u3001\u30b5\u30f3\u30d7\u30eb\u30b5\u30a4\u30ba\u3092\u6c42\u3081\u308b\u3053\u3068\u3082\u3067\u304d\u307e\u3059\u3002\u4f8b\u3048\u3070 $p=0.011$ \u306e\u5834\u5408\u306b\u3001\u691c\u51fa\u529b 0.8 \u3067\u691c\u5b9a\u53ef\u80fd\u306a\u30b5\u30f3\u30d7\u30eb\u30b5\u30a4\u30ba\u3092\u6c42\u3081\u3066\u307f\u307e\u3057\u3087\u3046\u3002\n",
      "\n",
      "norm.sf(z) \u306e\u9006\u95a2\u6570\u306f norm.isf(q) \u3067\u3059\u3002norm.isf(0.8)=-0.8416 \u3092\u7528\u3044\u3066\u89e3\u304f\u3068\u3001$N=63252$\u7a0b\u5ea6\u306b\u306a\u308b\u306f\u305a\u3067\u3059\u3002"
     ]
    },
    {
     "cell_type": "code",
     "collapsed": false,
     "input": [
      "beta(0.011, 0.01, 63252)"
     ],
     "language": "python",
     "metadata": {},
     "outputs": [
      {
       "metadata": {},
       "output_type": "pyout",
       "prompt_number": 19,
       "text": [
        "0.8001098094160336"
       ]
      }
     ],
     "prompt_number": 19
    },
    {
     "cell_type": "markdown",
     "metadata": {},
     "source": [
      "### \u8ab2\u984c\uff1a\n",
      "\n",
      "#### \u7b2c\uff11\u7a2e\u306e\u8aa4\u308a\n",
      "\n",
      "scipy.stats.binom\u306ervs\u30e1\u30bd\u30c3\u30c9\u306e\u4f7f\u3044\u65b9\u3092\u8abf\u3079\u3001$p=0.01, N=63252$ \u306e\u4e8c\u9805\u5206\u5e03\u3092100\u500b\u751f\u6210\u3057\u3001\n",
      "100\u56de\u4eee\u8aac\u691c\u5b9a\u3059\u308b\u3068\u4f55\u56de\u3001\u5e30\u7121\u4eee\u8aac $H_0: p=0.01$ \u3092\u68c4\u5374\u3057\u3066\u3057\u307e\u3046\u304b\u3092\u6c42\u3081\u306a\u3055\u3044\u3002\n",
      "5\u306b\u8fd1\u3044\u5024\u306b\u306a\u308a\u307e\u3057\u305f\u3067\u3057\u3087\u3046\u304b\uff1f\n",
      "\n",
      "rvs \u3067\u751f\u6210\u3057\u305f100\u500b\u306e\u5024\u304b\u3089\u6761\u4ef6\u3092\u6e80\u305f\u3059\u3082\u306e\u3060\u3051\u3092\u9078\u629e\u3057\u3066\u6570\u3092\u6570\u3048\u308b\u65b9\u6cd5\u306f\u7c21\u5358\u306b\u306f\u3001\n",
      "\n",
      "```\n",
      "len(filter(lambda x: \u6761\u4ef6\u3092\u6e80\u305f\u3059\u306a\u3089True\u306b\u306a\u308bx\u306e\u5f0f, rvs\u306e\u623b\u308a\u5024))\n",
      "```\n",
      "\n",
      "\u306e\u3088\u3046\u306b\u8a08\u7b97\u3067\u304d\u307e\u3059\u3002$z > 1.645$ \u3068\u306a\u308b\u3082\u306e\u306e\u500b\u6570\u3092\u6c42\u3081\u306a\u3055\u3044\u3002(\u7b54\u3048\u306f\u4e71\u6570\u6b21\u7b2c\u306a\u306e\u3067\u5b9f\u884c\u3054\u3068\u306b\u5024\u306f\u5909\u5316\u3057\u307e\u3059)"
     ]
    },
    {
     "cell_type": "code",
     "collapsed": false,
     "input": [
      "xs = binom.rvs(63252, 0.01, size=100) # Binom(p=0.01, N=63252) \u3092 100 \u500b\u751f\u6210\u3059\u308b\n",
      "mu = 63252 * 0.01 # \u5e73\u5747\u5024 = Np\n",
      "sigma = np.sqrt(63252*0.01*(1-0.01)) # \u6a19\u6e96\u504f\u5dee= sqrt(Np(1-p))\n",
      "len(filter(lambda x: (x - mu)/sigma > 1.645, xs)) # \u6b63\u898f\u5316(Z\u306b\u5909\u63db)\u3057\u30661.645\u4ee5\u4e0a\u306b\u306a\u308b\u3082\u306e\u3092\u9078\u629e\u3057\u3066\u9577\u3055\u3092\u5f97\u308b"
     ],
     "language": "python",
     "metadata": {},
     "outputs": [
      {
       "metadata": {},
       "output_type": "pyout",
       "prompt_number": 20,
       "text": [
        "7"
       ]
      }
     ],
     "prompt_number": 20
    },
    {
     "cell_type": "markdown",
     "metadata": {},
     "source": [
      "#### \u7b2c\uff12\u7a2e\u306e\u8aa4\u308a\n",
      "\n",
      "\u540c\u69d8\u306b\u3001$p=0.011,N=63252$ \u306e\u4e8c\u9805\u5206\u5e03\u3092100\u500b\u751f\u6210\u3057\u3066\u4eee\u8aac\u691c\u5b9a\u3059\u308b\u3068\u3001\u4f55\u56de\u5e30\u7121\u4eee\u8aac $H_0: p=0.01$ \u3092\u68c4\u5374\u3057\u306a\u3044\u304b\u3092\u6c42\u3081\u306a\u3055\u3044\u3002\n",
      "20\u306b\u8fd1\u3044\u5024\u306b\u306a\u308a\u307e\u3057\u305f\u3067\u3057\u3087\u3046\u304b\uff1f(\u7b54\u3048\u306f\u4e71\u6570\u6b21\u7b2c\u306a\u306e\u3067\u5b9f\u884c\u3054\u3068\u306b\u5024\u306f\u5909\u5316\u3057\u307e\u3059)"
     ]
    },
    {
     "cell_type": "code",
     "collapsed": false,
     "input": [
      "xs = binom.rvs(63252, 0.011, size=100) # Binom(p=0.011, N=63252) \u3067100\u500b\n",
      "mu = 63252 * 0.01 # \u691c\u5b9a\u306f H_0: p=0.01 \u3067\u5b9f\u65bd\u3059\u308b\n",
      "sigma = np.sqrt(63252*0.01*(1-0.01)) # \u540c\u69d8\n",
      "len(filter(lambda x: (x - mu)/sigma < 1.645, xs)) # \u540c\u69d8\u306bZ\u306b\u5909\u63db\u3057\u30011.645\u672a\u6e80\u3092\u6570\u3048\u308b"
     ],
     "language": "python",
     "metadata": {},
     "outputs": [
      {
       "metadata": {},
       "output_type": "pyout",
       "prompt_number": 21,
       "text": [
        "23"
       ]
      }
     ],
     "prompt_number": 21
    },
    {
     "cell_type": "markdown",
     "metadata": {},
     "source": [
      "## 2\u6a19\u672c\u554f\u984c\n",
      "\n",
      "\u3053\u3053\u307e\u3067\u306f\u3001\u7247\u65b9\u306e\u78ba\u7387\u306b\u3064\u3044\u3066\u306f\u6240\u4e0e\u306e\u3082\u306e\u3068\u3057\u3066\u3001\u7247\u65b9\u306e\u4e8c\u9805\u5206\u5e03\u3092\u6b63\u898f\u5206\u5e03\u3067\u8fd1\u4f3c\u3057\u307e\u3057\u305f\u3002\u5b9f\u969b\u306b\u306f\u3001\u5e83\u544aA\u3068\u5e83\u544aB\u306b\u3064\u3044\u3066\u6e2c\u5b9a\u3057\u3066\u6bd4\u8f03\u3059\u308b\u3001\u3068\u3044\u3046\u624b\u6bb5\u3092\u53d6\u308b\u3067\u3057\u3087\u3046\u3002\n",
      "\n",
      "\u4ee5\u4e0b\u3001\u7d50\u679c\u3060\u3051\u66f8\u304d\u307e\u3059\u3002\u8a73\u7d30\u306f\u4f8b\u3048\u3070\u6771\u5927\u51fa\u7248\u4f1a\u300c\u81ea\u7136\u79d1\u5b66\u306e\u7d71\u8a08\u5b66\u300dp.192\u3068\u304b\u3092\u8aad\u3093\u3067\u304f\u3060\u3055\u3044\u3002\n",
      "\n",
      "$X$\u3092\u4e8c\u9805\u5206\u5e03$\\mathrm{Binom}(m, p_1)$, $Y$\u3092$\\mathrm{Binom}(n, p_2)$\u306b\u5f93\u3046\u3068\u3057\u3066\u3053\u308c\u3089\u306f\u72ec\u7acb\u3068\u3059\u308b\u3002\n",
      "\u7247\u5074\u691c\u5b9a\u3067 $H_0: p_1 = p_2$, $H_1: p_1 > p_2$ \u3068\u3059\u308b\u3002$\\hat{p_1} = X / m$, $\\hat{p_2} = Y / n$,\n",
      "$\\hat{p} = (X+Y)/(m+n)$ \u3068\u3059\u308b\u3002\u691c\u5b9a\u7d71\u8a08\u91cf\n",
      "$$Z = \\sqrt{\\frac{mn}{m+n}}\\frac{\\hat{p_1}-\\hat{p_2}}{\\sqrt{\\hat{p}(1-\\hat{p})}}$$\n",
      "\u3092\u7528\u3044\u3066\u3001\u5e30\u7121\u4eee\u8aac $H_0$ \u306e\u68c4\u5374\u3092\u884c\u3048\u3070\u826f\u3044\u3002\n",
      "\n",
      "\u691c\u51fa\u529b\u306b\u3064\u3044\u3066\u306f\u3001$p_1, p_2$ \u304c\u3042\u307e\u308a\u96e2\u308c\u3066\u3044\u306a\u3044\u3068\u3044\u3046\u8fd1\u4f3c\u306e\u5143\u3067\u3001\n",
      "$$\\beta(p_1, p_2) = 1 - \\Phi\\left(z_\\alpha - \\frac{p_1 - p_2}{\\sqrt{p_1(1-p_1)}/m + \\sqrt{p_2(1-p_2)}/n}\\right).$$"
     ]
    },
    {
     "cell_type": "markdown",
     "metadata": {},
     "source": [
      "### \u81ea\u7531\u8ab2\u984c\uff1a\n",
      "\n",
      "\u5e83\u544aA\u306e\u30af\u30ea\u30c3\u30af\u7387\u304c 10000 \u56de\u4e2d\u3001100 \u56de\u3068\u3057\u307e\u3059\u3002\u5e83\u544a B \u306e\u304c 10000 \u56de\u4e2d\u3001110 \u56de\u3068\u3057\u307e\u3059\u3002\n",
      "\u4e0a\u8a18\u306e\u516c\u5f0f\u3092\u7528\u3044\u3066\u3001\u7247\u5074\u691c\u5b9a\u3092\u884c\u3044\u3001\u5e30\u7121\u4eee\u8aac $H_0: p_A = p_B$ \u304c\u68c4\u5374\u3055\u308c\u308b\u304b\u8abf\u3079\u306a\u3055\u3044\u3002\n",
      "\u307e\u305f\u3001\u3053\u306e\u5b9f\u9a13\u306e\u691c\u51fa\u529b\u306b\u3064\u3044\u3066\u6c42\u3081\u306a\u3055\u3044\u3002"
     ]
    },
    {
     "cell_type": "code",
     "collapsed": false,
     "input": [
      "# \u7247\u5074\u691c\u5b9a\n",
      "m, n = 10000.0, 10000.0\n",
      "p1, p2 = 110.0/m, 100.0/n \n",
      "p = (110.0+100.0)/(m+n)\n",
      "z = np.sqrt(m*n/(m+n))*(p1-p2)/np.sqrt(p*(1-p))\n",
      "z # z=0.69 < 1.645 \u306a\u306e\u3067\u5e30\u7121\u4eee\u8aac\u306f\u6709\u610f\u6c34\u6e965%\u3067\u68c4\u5374\u3055\u308c\u306a\u3044\u3002\u5dee\u304c\u3042\u308b\u3068\u306f\u8a00\u3048\u306a\u3044\u3002"
     ],
     "language": "python",
     "metadata": {},
     "outputs": [
      {
       "metadata": {},
       "output_type": "pyout",
       "prompt_number": 22,
       "text": [
        "0.69371718537889815"
       ]
      }
     ],
     "prompt_number": 22
    },
    {
     "cell_type": "code",
     "collapsed": false,
     "input": [
      "# \u691c\u51fa\u529b\n",
      "z = 1.645 - (p1 - p2) / (np.sqrt(p1*(1-p1)/m) + np.sqrt(p2*(1-p2)/n))\n",
      "norm.sf(z) # \u691c\u51fa\u529b=0.12 \u3068\u4f4e\u3044\u3002\u30b5\u30f3\u30d7\u30eb\u6570\u304c\u5c11\u306a\u304f\u3066\u5dee\u3092\u691c\u51fa\u3067\u304d\u3066\u306a\u3044\u3002\u5dee\u304c\u306a\u3044\u3068\u3044\u3046\u3088\u308a\u306f\u3001\u3042\u3063\u3066\u3082\u308f\u304b\u3089\u306a\u3044\u3002"
     ],
     "language": "python",
     "metadata": {},
     "outputs": [
      {
       "metadata": {},
       "output_type": "pyout",
       "prompt_number": 23,
       "text": [
        "0.12418332636830559"
       ]
      }
     ],
     "prompt_number": 23
    },
    {
     "cell_type": "markdown",
     "metadata": {},
     "source": [
      "## \u305d\u306e\u4ed6\n",
      "\n",
      "### arcsin \u5909\u63db\n",
      "\n",
      "\u6bd4\u7387\u306e\u5dee\u306b\u95a2\u3057\u3066\u3001\u300c0.1 \u3068 0.3 \u306e\u5dee\u300d\u3068\u300c0.5 \u3068 0.7 \u306e\u5dee\u300d\u306e\u5dee\u306f\u91cd\u307f\u304c\u9055\u3046\u3001\u3068\u3082\u8003\u3048\u3089\u308c\u307e\u3059\u3002\u305d\u306e\u3088\u3046\u306a\u5834\u5408\u3001\n",
      "$p \\mapsto \\arcsin \\sqrt{p}$ \u3068\u3044\u3046\u5909\u63db\u3092\u884c\u3063\u3066\u4e0a\u8ff0\u306e$Z$\u3092\u8a08\u7b97\u3059\u308b\u3001\u3068\u3044\u3046\u30c6\u30af\u30cb\u30c3\u30af\u304c\u77e5\u3089\u308c\u3066\u3044\u307e\u3059\u3002\n",
      "\u4eca\u56de\u306f\u8a73\u3057\u304f\u306f\u89e3\u8aac\u3057\u307e\u305b\u3093\u304c\u3001\u8208\u5473\u306e\u3042\u308b\u4eba\u306f arcsin \u5909\u63db\u3067\u63a2\u3057\u3066\u307f\u3066\u304f\u3060\u3055\u3044\u3002"
     ]
    },
    {
     "cell_type": "markdown",
     "metadata": {},
     "source": [
      "### \u52b9\u679c\u91cf\n",
      "\n",
      "\u691c\u5b9a\u7d71\u8a08\u91cf\u306e\u5f0f \n",
      "$$Z = \\sqrt{\\frac{mn}{m+n}}\\frac{\\hat{p_1}-\\hat{p_2}}{\\sqrt{p(1-p)}}$$\n",
      "\u306f\u3001\n",
      "$$\\frac{mn}{m+n} = N, \\;\\; Z = \\sqrt{N}\\frac{\\Delta p}{\\sqrt{p(1-p)}} \n",
      "= N \\times \\frac{\\Delta p}{\\sqrt{\\frac{p(1-p)}{N}}}$$\n",
      "\u3068\u5927\u96d1\u628a\u306b\u307f\u308b\u3068\u3001$$(\\text{\u30b5\u30f3\u30d7\u30eb\u6570}) \\times \\frac{\\text{\u5e73\u5747\u306e\u5dee}}{\\text{\u5206\u6563}}$$\n",
      "\u3068\u3044\u3046\u5f0f\u3092\u3057\u3066\u3044\u307e\u3059\u3002\n",
      "\n",
      "\u3053\u308c\u3092\u307f\u308b\u3068\u3001\u30b5\u30f3\u30d7\u30eb\u6570\u3055\u3048\u5897\u3084\u305b\u3070 $Z$ \u306f\u5927\u304d\u304f\u306a\u308a\u3001\u6709\u610f\u5dee\u3092\u898b\u51fa\u3057\u3084\u3059\u304f\u306a\u308b\u3053\u3068\u304c\u308f\u304b\u308a\u307e\u3059\u3002$Z/N$ \u306b\u76f8\u5f53\u3059\u308b\n",
      "$$\\frac{\\text{\u5e73\u5747\u306e\u5dee}}{\\text{\u5206\u6563}}$$ \u306e\u90e8\u5206\u3092\u52b9\u679c\u91cf\u3068\u547c\u3073\u307e\u3059\u3002\n",
      "\n",
      "\u3053\u306e\u91cf\u306f\u3001\u6e2c\u5b9a\u5024\u306e\u3070\u3089\u3064\u304d\u3092 $1$ \u3068\u3057\u305f\u5834\u5408\u306e\u3001\u5dee\u306e\u76f8\u5bfe\u7684\u306a\u5927\u304d\u3055\u3092\u793a\u3059\u91cf\u3067\u3059\u3002"
     ]
    },
    {
     "cell_type": "code",
     "collapsed": false,
     "input": [],
     "language": "python",
     "metadata": {},
     "outputs": [],
     "prompt_number": 23
    }
   ],
   "metadata": {}
  }
 ]
}