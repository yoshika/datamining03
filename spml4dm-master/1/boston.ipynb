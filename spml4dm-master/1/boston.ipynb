{
 "metadata": {
  "name": "",
  "signature": "sha256:7ce2159e4bb327e7c62a406114936019a955eeee09e2b9f18922f87ce4f027b0"
 },
 "nbformat": 3,
 "nbformat_minor": 0,
 "worksheets": [
  {
   "cells": [
    {
     "cell_type": "markdown",
     "metadata": {},
     "source": [
      "## \u2605\u64cd\u4f5c\u65b9\u6cd5\uff1a\n",
      "\u4e0a\u304b\u3089\u9806\u306b\u81ea\u5206\u3067\u5b9f\u884c\u3057\u305f\u3044\u5834\u5408\u306f\u3001\n",
      "1. \u30e1\u30cb\u30e5\u30fc\u304b\u3089 Cell -> All Output -> Clear \u3068\u3059\u308b\n",
      "2. \u4e0a\u304b\u3089\u9806\u306b\u30b3\u30fc\u30c9\u90e8\u5206\u3092\u30af\u30ea\u30c3\u30af\u3057\u3066\u3001\u30e1\u30cb\u30e5\u30fc\u306e\u5b9f\u884c\u30dc\u30bf\u30f3(\u53f3\u5411\u304d\u4e09\u89d2\u30dc\u30bf\u30f3\uff09\u3092\u62bc\u3057\u3066\u3044\u304f\n",
      "\n",
      "\u9006\u306b\u5168\u90e8\u8a08\u7b97\u3055\u308c\u305f\u72b6\u614b\u306e\u30ce\u30fc\u30c8\u30d6\u30c3\u30af\u3092\u5f97\u305f\u3044\u5834\u5408\u306f\u3001\n",
      "1. \u30e1\u30cb\u30e5\u30fc\u304b\u3089 Cell -> Run All \u3068\u3059\u308b\n",
      "\n",
      "\u3067\u3059\u3002\n",
      "\n",
      "# scikit-learn\u3092\u4f7f\u3063\u305f\u7dda\u5f62\u56de\u5e30\n",
      "\n",
      "\u307e\u305a ipython \u5185\u90e8\u3067 matplotlib \u3092\u4f7f\u3048\u308b\u8a2d\u5b9a\u3092\u884c\u3044\u3001\n",
      "\n",
      "* \u8272\u3005\u591a\u7528\u3059\u308b [numpy](http://www.numpy.org)\n",
      "* plot \u306b\u4f7f\u7528\u3059\u308b [matplotlib](http://matplotlib.org)\n",
      "* \u30c7\u30fc\u30bf\u30bb\u30c3\u30c8\u3092\u6271\u3046\u305f\u3081\u306e [pandas](http://pandas.pydata.org)\n",
      "* [scikit-learn](http://scikit-learn.org/stable/) \u306e\u30c7\u30fc\u30bf\u3092\u6271\u3046\u305f\u3081\u306e [datasets](http://scikit-learn.org/stable/datasets/)\n",
      "\n",
      "\u3092 import \u3057\u307e\u3059\u3002"
     ]
    },
    {
     "cell_type": "code",
     "collapsed": false,
     "input": [
      "%matplotlib inline\n",
      "import numpy as np\n",
      "import matplotlib.pyplot as plt\n",
      "import pandas as pd\n",
      "from sklearn import datasets"
     ],
     "language": "python",
     "metadata": {},
     "outputs": [],
     "prompt_number": 26
    },
    {
     "cell_type": "markdown",
     "metadata": {},
     "source": [
      "## sklearn.datasets \u306e\u4f7f\u3044\u65b9\n",
      "\n",
      "\u6b21\u306b\u30b5\u30f3\u30d7\u30eb\u30c7\u30fc\u30bf\u30bb\u30c3\u30c8\u306e Boston \u3092\u30ed\u30fc\u30c9\u3057\u307e\u3059\u3002\n",
      "\n",
      "\u3053\u308c\u306f http://archive.ics.uci.edu/ml/datasets/Housing \u3067\u516c\u958b\u3055\u308c\u3066\u3044\u308b\u30dc\u30b9\u30c8\u30f3\u90ca\u5916\u306e\u5bb6\u306e\u4fa1\u683c\u306e\u30c7\u30fc\u30bf\u3067\u3059\u3002\n",
      "[UC Irvine Machine Learning Repository](http://archive.ics.uci.edu/ml) (by Bache, K. & Lichman, M. (2013)) \u3067\u306f\u6a5f\u68b0\u5b66\u7fd2\u306e\u30a2\u30eb\u30b4\u30ea\u30ba\u30e0\u306e\u6bd4\u8f03\u7528\u3084\u5b66\u7fd2\u7528\u306b\u4fbf\u5229\u306a\u6a19\u6e96\u30c7\u30fc\u30bf\u3092\u516c\u958b\u3057\u3066\u3044\u307e\u3059\u3002\n",
      "\n",
      "\u305d\u3057\u3066\u3001\u672c\u6587\u66f8\u306e\u3088\u3046\u306a\u30c1\u30e5\u30fc\u30c8\u30ea\u30a2\u30eb\u4f5c\u6210\u6642\u306b\u4fbf\u5229\u306a\u3088\u3046\u306b\u3001scikit-learn \u30e9\u30a4\u30d6\u30e9\u30ea\u3067\u306f\u3053\u306e\u30c7\u30fc\u30bf\u3092\u624b\u8efd\u306b\u5229\u7528\u3067\u304d\u308b\u3088\u3046\u306b\u3001\u5229\u7528\u3057\u3084\u3059\u3044\u5f62\u3067\u4e88\u3081\u7528\u610f\u3057\u3066\u3044\u307e\u3059\u3002\n",
      "\n",
      "DESCR \u5c5e\u6027\u306b\u30c7\u30fc\u30bf\u306e\u8aac\u660e\u6587\u5b57\u5217\u304c\u5165\u3063\u3066\u3044\u307e\u3059\u3002\n",
      "DESCR \u306e\u8aac\u660e\u3092\u8aad\u3080\u3068\u3001target \u306b\u76ee\u7684\u5909\u6570(\u5bb6\u306e\u4fa1\u683c\u306e\u4e2d\u592e\u5024)\u304c\u3001data \u306b\u306f\u4e0a\u8a18\u306e\u7d20\u6027\u30c7\u30fc\u30bf\u306e\u6570\u5024\u304c\u5165\u3063\u3066\u3044\u308b\u3053\u3068\u304c\u308f\u304b\u308a\u307e\u3059\u3002"
     ]
    },
    {
     "cell_type": "code",
     "collapsed": false,
     "input": [
      "boston = datasets.load_boston()\n",
      "print boston.DESCR"
     ],
     "language": "python",
     "metadata": {},
     "outputs": [
      {
       "output_type": "stream",
       "stream": "stdout",
       "text": [
        "Boston House Prices dataset\n",
        "\n",
        "Notes\n",
        "------\n",
        "Data Set Characteristics:  \n",
        "\n",
        "    :Number of Instances: 506 \n",
        "\n",
        "    :Number of Attributes: 13 numeric/categorical predictive\n",
        "    \n",
        "    :Median Value (attribute 14) is usually the target\n",
        "\n",
        "    :Attribute Information (in order):\n",
        "        - CRIM     per capita crime rate by town\n",
        "        - ZN       proportion of residential land zoned for lots over 25,000 sq.ft.\n",
        "        - INDUS    proportion of non-retail business acres per town\n",
        "        - CHAS     Charles River dummy variable (= 1 if tract bounds river; 0 otherwise)\n",
        "        - NOX      nitric oxides concentration (parts per 10 million)\n",
        "        - RM       average number of rooms per dwelling\n",
        "        - AGE      proportion of owner-occupied units built prior to 1940\n",
        "        - DIS      weighted distances to five Boston employment centres\n",
        "        - RAD      index of accessibility to radial highways\n",
        "        - TAX      full-value property-tax rate per $10,000\n",
        "        - PTRATIO  pupil-teacher ratio by town\n",
        "        - B        1000(Bk - 0.63)^2 where Bk is the proportion of blacks by town\n",
        "        - LSTAT    % lower status of the population\n",
        "        - MEDV     Median value of owner-occupied homes in $1000's\n",
        "\n",
        "    :Missing Attribute Values: None\n",
        "\n",
        "    :Creator: Harrison, D. and Rubinfeld, D.L.\n",
        "\n",
        "This is a copy of UCI ML housing dataset.\n",
        "http://archive.ics.uci.edu/ml/datasets/Housing\n",
        "\n",
        "\n",
        "This dataset was taken from the StatLib library which is maintained at Carnegie Mellon University.\n",
        "\n",
        "The Boston house-price data of Harrison, D. and Rubinfeld, D.L. 'Hedonic\n",
        "prices and the demand for clean air', J. Environ. Economics & Management,\n",
        "vol.5, 81-102, 1978.   Used in Belsley, Kuh & Welsch, 'Regression diagnostics\n",
        "...', Wiley, 1980.   N.B. Various transformations are used in the table on\n",
        "pages 244-261 of the latter.\n",
        "\n",
        "The Boston house-price data has been used in many machine learning papers that address regression\n",
        "problems.   \n",
        "     \n",
        "**References**\n",
        "\n",
        "   - Belsley, Kuh & Welsch, 'Regression diagnostics: Identifying Influential Data and Sources of Collinearity', Wiley, 1980. 244-261.\n",
        "   - Quinlan,R. (1993). Combining Instance-Based and Model-Based Learning. In Proceedings on the Tenth International Conference of Machine Learning, 236-243, University of Massachusetts, Amherst. Morgan Kaufmann.\n",
        "   - many more! (see http://archive.ics.uci.edu/ml/datasets/Housing)\n",
        "\n"
       ]
      }
     ],
     "prompt_number": 27
    },
    {
     "cell_type": "markdown",
     "metadata": {},
     "source": [
      "\u30c7\u30fc\u30bf\u306b\u542b\u307e\u308c\u308b\u9805\u76ee\u306f keys() \u3067\u78ba\u8a8d\u3067\u304d\u307e\u3059\u3002keys() \u306f\u30c7\u30a3\u30af\u30b7\u30e7\u30ca\u30ea\u306e\u30ad\u30fc\u5168\u4f53\u3092\u30ea\u30b9\u30c8\u3068\u3057\u3066\u53d6\u5f97\u3059\u308b\u30e1\u30bd\u30c3\u30c9\u3067\u3059\u3002"
     ]
    },
    {
     "cell_type": "code",
     "collapsed": false,
     "input": [
      "boston.keys()"
     ],
     "language": "python",
     "metadata": {},
     "outputs": [
      {
       "metadata": {},
       "output_type": "pyout",
       "prompt_number": 28,
       "text": [
        "['data', 'feature_names', 'DESCR', 'target']"
       ]
      }
     ],
     "prompt_number": 28
    },
    {
     "cell_type": "markdown",
     "metadata": {},
     "source": [
      "\u30c7\u30fc\u30bf\u306e\u6570\u306a\u3069\u3092\u8abf\u3079\u308b\u306b\u306f data.shape() \u3092\u7528\u3044\u307e\u3059\u3002\u8fd4\u308a\u5024\u306f (\u30b5\u30f3\u30d7\u30eb\u6570, \u6b21\u5143\u6570) \u3067\u3059\u3002"
     ]
    },
    {
     "cell_type": "code",
     "collapsed": false,
     "input": [
      "boston.data.shape"
     ],
     "language": "python",
     "metadata": {},
     "outputs": [
      {
       "metadata": {},
       "output_type": "pyout",
       "prompt_number": 29,
       "text": [
        "(506, 13)"
       ]
      }
     ],
     "prompt_number": 29
    },
    {
     "cell_type": "markdown",
     "metadata": {},
     "source": [
      "13\u500b\u306e\u9805\u76ee\u540d\u306f feature_names \u3067\u78ba\u8a8d\u3067\u304d\u307e\u3059\u3002"
     ]
    },
    {
     "cell_type": "code",
     "collapsed": false,
     "input": [
      "boston.feature_names"
     ],
     "language": "python",
     "metadata": {},
     "outputs": [
      {
       "metadata": {},
       "output_type": "pyout",
       "prompt_number": 30,
       "text": [
        "array(['CRIM', 'ZN', 'INDUS', 'CHAS', 'NOX', 'RM', 'AGE', 'DIS', 'RAD',\n",
        "       'TAX', 'PTRATIO', 'B', 'LSTAT'], \n",
        "      dtype='|S7')"
       ]
      }
     ],
     "prompt_number": 30
    },
    {
     "cell_type": "markdown",
     "metadata": {},
     "source": [
      "## pandas \u306e\u4f7f\u3044\u65b9\n",
      "\n",
      "\u30c7\u30fc\u30bf\u3092 DataFrame \u3068\u547c\u3070\u308c\u308b\u6a19\u6e96\u7684\u306a\u5f62\u5f0f\u306b\u5909\u63db\u3057\u3066\u307f\u307e\u3057\u3087\u3046\u3002\u5168\u90e8\u8868\u793a\u3059\u308b\u306e\u306f\u5927\u5909\u306a\u306e\u3067\u5148\u982d\u3060\u3051\u8868\u793a\u3057\u307e\u3059\u3002"
     ]
    },
    {
     "cell_type": "code",
     "collapsed": false,
     "input": [
      "df = pd.DataFrame(boston.data)\n",
      "df.head()"
     ],
     "language": "python",
     "metadata": {},
     "outputs": [
      {
       "html": [
        "<div style=\"max-height:1000px;max-width:1500px;overflow:auto;\">\n",
        "<table border=\"1\" class=\"dataframe\">\n",
        "  <thead>\n",
        "    <tr style=\"text-align: right;\">\n",
        "      <th></th>\n",
        "      <th>0</th>\n",
        "      <th>1</th>\n",
        "      <th>2</th>\n",
        "      <th>3</th>\n",
        "      <th>4</th>\n",
        "      <th>5</th>\n",
        "      <th>6</th>\n",
        "      <th>7</th>\n",
        "      <th>8</th>\n",
        "      <th>9</th>\n",
        "      <th>10</th>\n",
        "      <th>11</th>\n",
        "      <th>12</th>\n",
        "    </tr>\n",
        "  </thead>\n",
        "  <tbody>\n",
        "    <tr>\n",
        "      <th>0</th>\n",
        "      <td> 0.00632</td>\n",
        "      <td> 18</td>\n",
        "      <td> 2.31</td>\n",
        "      <td> 0</td>\n",
        "      <td> 0.538</td>\n",
        "      <td> 6.575</td>\n",
        "      <td> 65.2</td>\n",
        "      <td> 4.0900</td>\n",
        "      <td> 1</td>\n",
        "      <td> 296</td>\n",
        "      <td> 15.3</td>\n",
        "      <td> 396.90</td>\n",
        "      <td> 4.98</td>\n",
        "    </tr>\n",
        "    <tr>\n",
        "      <th>1</th>\n",
        "      <td> 0.02731</td>\n",
        "      <td>  0</td>\n",
        "      <td> 7.07</td>\n",
        "      <td> 0</td>\n",
        "      <td> 0.469</td>\n",
        "      <td> 6.421</td>\n",
        "      <td> 78.9</td>\n",
        "      <td> 4.9671</td>\n",
        "      <td> 2</td>\n",
        "      <td> 242</td>\n",
        "      <td> 17.8</td>\n",
        "      <td> 396.90</td>\n",
        "      <td> 9.14</td>\n",
        "    </tr>\n",
        "    <tr>\n",
        "      <th>2</th>\n",
        "      <td> 0.02729</td>\n",
        "      <td>  0</td>\n",
        "      <td> 7.07</td>\n",
        "      <td> 0</td>\n",
        "      <td> 0.469</td>\n",
        "      <td> 7.185</td>\n",
        "      <td> 61.1</td>\n",
        "      <td> 4.9671</td>\n",
        "      <td> 2</td>\n",
        "      <td> 242</td>\n",
        "      <td> 17.8</td>\n",
        "      <td> 392.83</td>\n",
        "      <td> 4.03</td>\n",
        "    </tr>\n",
        "    <tr>\n",
        "      <th>3</th>\n",
        "      <td> 0.03237</td>\n",
        "      <td>  0</td>\n",
        "      <td> 2.18</td>\n",
        "      <td> 0</td>\n",
        "      <td> 0.458</td>\n",
        "      <td> 6.998</td>\n",
        "      <td> 45.8</td>\n",
        "      <td> 6.0622</td>\n",
        "      <td> 3</td>\n",
        "      <td> 222</td>\n",
        "      <td> 18.7</td>\n",
        "      <td> 394.63</td>\n",
        "      <td> 2.94</td>\n",
        "    </tr>\n",
        "    <tr>\n",
        "      <th>4</th>\n",
        "      <td> 0.06905</td>\n",
        "      <td>  0</td>\n",
        "      <td> 2.18</td>\n",
        "      <td> 0</td>\n",
        "      <td> 0.458</td>\n",
        "      <td> 7.147</td>\n",
        "      <td> 54.2</td>\n",
        "      <td> 6.0622</td>\n",
        "      <td> 3</td>\n",
        "      <td> 222</td>\n",
        "      <td> 18.7</td>\n",
        "      <td> 396.90</td>\n",
        "      <td> 5.33</td>\n",
        "    </tr>\n",
        "  </tbody>\n",
        "</table>\n",
        "</div>"
       ],
       "metadata": {},
       "output_type": "pyout",
       "prompt_number": 31,
       "text": [
        "        0   1     2   3      4      5     6       7   8    9     10      11  \\\n",
        "0  0.00632  18  2.31   0  0.538  6.575  65.2  4.0900   1  296  15.3  396.90   \n",
        "1  0.02731   0  7.07   0  0.469  6.421  78.9  4.9671   2  242  17.8  396.90   \n",
        "2  0.02729   0  7.07   0  0.469  7.185  61.1  4.9671   2  242  17.8  392.83   \n",
        "3  0.03237   0  2.18   0  0.458  6.998  45.8  6.0622   3  222  18.7  394.63   \n",
        "4  0.06905   0  2.18   0  0.458  7.147  54.2  6.0622   3  222  18.7  396.90   \n",
        "\n",
        "     12  \n",
        "0  4.98  \n",
        "1  9.14  \n",
        "2  4.03  \n",
        "3  2.94  \n",
        "4  5.33  "
       ]
      }
     ],
     "prompt_number": 31
    },
    {
     "cell_type": "markdown",
     "metadata": {},
     "source": [
      "\u30c7\u30fc\u30bf\u306b\u9805\u76ee\u540d\u3092\u3064\u3051\u3066\u3001target \u3068\u306a\u308b\u4fa1\u683c\u3082 MEDV \u3068\u3044\u3046\u540d\u524d\u3092\u3064\u3051\u3066\u8868\u306b\u8ffd\u52a0\u3057\u307e\u3059\u3002"
     ]
    },
    {
     "cell_type": "code",
     "collapsed": false,
     "input": [
      "df.columns = boston.feature_names\n",
      "df['MEDV'] = boston.target\n",
      "df.head()"
     ],
     "language": "python",
     "metadata": {},
     "outputs": [
      {
       "html": [
        "<div style=\"max-height:1000px;max-width:1500px;overflow:auto;\">\n",
        "<table border=\"1\" class=\"dataframe\">\n",
        "  <thead>\n",
        "    <tr style=\"text-align: right;\">\n",
        "      <th></th>\n",
        "      <th>CRIM</th>\n",
        "      <th>ZN</th>\n",
        "      <th>INDUS</th>\n",
        "      <th>CHAS</th>\n",
        "      <th>NOX</th>\n",
        "      <th>RM</th>\n",
        "      <th>AGE</th>\n",
        "      <th>DIS</th>\n",
        "      <th>RAD</th>\n",
        "      <th>TAX</th>\n",
        "      <th>PTRATIO</th>\n",
        "      <th>B</th>\n",
        "      <th>LSTAT</th>\n",
        "      <th>MEDV</th>\n",
        "    </tr>\n",
        "  </thead>\n",
        "  <tbody>\n",
        "    <tr>\n",
        "      <th>0</th>\n",
        "      <td> 0.00632</td>\n",
        "      <td> 18</td>\n",
        "      <td> 2.31</td>\n",
        "      <td> 0</td>\n",
        "      <td> 0.538</td>\n",
        "      <td> 6.575</td>\n",
        "      <td> 65.2</td>\n",
        "      <td> 4.0900</td>\n",
        "      <td> 1</td>\n",
        "      <td> 296</td>\n",
        "      <td> 15.3</td>\n",
        "      <td> 396.90</td>\n",
        "      <td> 4.98</td>\n",
        "      <td> 24.0</td>\n",
        "    </tr>\n",
        "    <tr>\n",
        "      <th>1</th>\n",
        "      <td> 0.02731</td>\n",
        "      <td>  0</td>\n",
        "      <td> 7.07</td>\n",
        "      <td> 0</td>\n",
        "      <td> 0.469</td>\n",
        "      <td> 6.421</td>\n",
        "      <td> 78.9</td>\n",
        "      <td> 4.9671</td>\n",
        "      <td> 2</td>\n",
        "      <td> 242</td>\n",
        "      <td> 17.8</td>\n",
        "      <td> 396.90</td>\n",
        "      <td> 9.14</td>\n",
        "      <td> 21.6</td>\n",
        "    </tr>\n",
        "    <tr>\n",
        "      <th>2</th>\n",
        "      <td> 0.02729</td>\n",
        "      <td>  0</td>\n",
        "      <td> 7.07</td>\n",
        "      <td> 0</td>\n",
        "      <td> 0.469</td>\n",
        "      <td> 7.185</td>\n",
        "      <td> 61.1</td>\n",
        "      <td> 4.9671</td>\n",
        "      <td> 2</td>\n",
        "      <td> 242</td>\n",
        "      <td> 17.8</td>\n",
        "      <td> 392.83</td>\n",
        "      <td> 4.03</td>\n",
        "      <td> 34.7</td>\n",
        "    </tr>\n",
        "    <tr>\n",
        "      <th>3</th>\n",
        "      <td> 0.03237</td>\n",
        "      <td>  0</td>\n",
        "      <td> 2.18</td>\n",
        "      <td> 0</td>\n",
        "      <td> 0.458</td>\n",
        "      <td> 6.998</td>\n",
        "      <td> 45.8</td>\n",
        "      <td> 6.0622</td>\n",
        "      <td> 3</td>\n",
        "      <td> 222</td>\n",
        "      <td> 18.7</td>\n",
        "      <td> 394.63</td>\n",
        "      <td> 2.94</td>\n",
        "      <td> 33.4</td>\n",
        "    </tr>\n",
        "    <tr>\n",
        "      <th>4</th>\n",
        "      <td> 0.06905</td>\n",
        "      <td>  0</td>\n",
        "      <td> 2.18</td>\n",
        "      <td> 0</td>\n",
        "      <td> 0.458</td>\n",
        "      <td> 7.147</td>\n",
        "      <td> 54.2</td>\n",
        "      <td> 6.0622</td>\n",
        "      <td> 3</td>\n",
        "      <td> 222</td>\n",
        "      <td> 18.7</td>\n",
        "      <td> 396.90</td>\n",
        "      <td> 5.33</td>\n",
        "      <td> 36.2</td>\n",
        "    </tr>\n",
        "  </tbody>\n",
        "</table>\n",
        "</div>"
       ],
       "metadata": {},
       "output_type": "pyout",
       "prompt_number": 32,
       "text": [
        "      CRIM  ZN  INDUS  CHAS    NOX     RM   AGE     DIS  RAD  TAX  PTRATIO  \\\n",
        "0  0.00632  18   2.31     0  0.538  6.575  65.2  4.0900    1  296     15.3   \n",
        "1  0.02731   0   7.07     0  0.469  6.421  78.9  4.9671    2  242     17.8   \n",
        "2  0.02729   0   7.07     0  0.469  7.185  61.1  4.9671    2  242     17.8   \n",
        "3  0.03237   0   2.18     0  0.458  6.998  45.8  6.0622    3  222     18.7   \n",
        "4  0.06905   0   2.18     0  0.458  7.147  54.2  6.0622    3  222     18.7   \n",
        "\n",
        "        B  LSTAT  MEDV  \n",
        "0  396.90   4.98  24.0  \n",
        "1  396.90   9.14  21.6  \n",
        "2  392.83   4.03  34.7  \n",
        "3  394.63   2.94  33.4  \n",
        "4  396.90   5.33  36.2  "
       ]
      }
     ],
     "prompt_number": 32
    },
    {
     "cell_type": "markdown",
     "metadata": {},
     "source": [
      "\u7c21\u5358\u306a\u96c6\u8a08\u5024\u306f describe() \u3067\u8a08\u7b97\u3057\u3066\u304f\u308c\u307e\u3059\u3002"
     ]
    },
    {
     "cell_type": "code",
     "collapsed": false,
     "input": [
      "df.describe()"
     ],
     "language": "python",
     "metadata": {},
     "outputs": [
      {
       "html": [
        "<div style=\"max-height:1000px;max-width:1500px;overflow:auto;\">\n",
        "<table border=\"1\" class=\"dataframe\">\n",
        "  <thead>\n",
        "    <tr style=\"text-align: right;\">\n",
        "      <th></th>\n",
        "      <th>CRIM</th>\n",
        "      <th>ZN</th>\n",
        "      <th>INDUS</th>\n",
        "      <th>CHAS</th>\n",
        "      <th>NOX</th>\n",
        "      <th>RM</th>\n",
        "      <th>AGE</th>\n",
        "      <th>DIS</th>\n",
        "      <th>RAD</th>\n",
        "      <th>TAX</th>\n",
        "      <th>PTRATIO</th>\n",
        "      <th>B</th>\n",
        "      <th>LSTAT</th>\n",
        "      <th>MEDV</th>\n",
        "    </tr>\n",
        "  </thead>\n",
        "  <tbody>\n",
        "    <tr>\n",
        "      <th>count</th>\n",
        "      <td> 506.000000</td>\n",
        "      <td> 506.000000</td>\n",
        "      <td> 506.000000</td>\n",
        "      <td> 506.000000</td>\n",
        "      <td> 506.000000</td>\n",
        "      <td> 506.000000</td>\n",
        "      <td> 506.000000</td>\n",
        "      <td> 506.000000</td>\n",
        "      <td> 506.000000</td>\n",
        "      <td> 506.000000</td>\n",
        "      <td> 506.000000</td>\n",
        "      <td> 506.000000</td>\n",
        "      <td> 506.000000</td>\n",
        "      <td> 506.000000</td>\n",
        "    </tr>\n",
        "    <tr>\n",
        "      <th>mean</th>\n",
        "      <td>   3.593761</td>\n",
        "      <td>  11.363636</td>\n",
        "      <td>  11.136779</td>\n",
        "      <td>   0.069170</td>\n",
        "      <td>   0.554695</td>\n",
        "      <td>   6.284634</td>\n",
        "      <td>  68.574901</td>\n",
        "      <td>   3.795043</td>\n",
        "      <td>   9.549407</td>\n",
        "      <td> 408.237154</td>\n",
        "      <td>  18.455534</td>\n",
        "      <td> 356.674032</td>\n",
        "      <td>  12.653063</td>\n",
        "      <td>  22.532806</td>\n",
        "    </tr>\n",
        "    <tr>\n",
        "      <th>std</th>\n",
        "      <td>   8.596783</td>\n",
        "      <td>  23.322453</td>\n",
        "      <td>   6.860353</td>\n",
        "      <td>   0.253994</td>\n",
        "      <td>   0.115878</td>\n",
        "      <td>   0.702617</td>\n",
        "      <td>  28.148861</td>\n",
        "      <td>   2.105710</td>\n",
        "      <td>   8.707259</td>\n",
        "      <td> 168.537116</td>\n",
        "      <td>   2.164946</td>\n",
        "      <td>  91.294864</td>\n",
        "      <td>   7.141062</td>\n",
        "      <td>   9.197104</td>\n",
        "    </tr>\n",
        "    <tr>\n",
        "      <th>min</th>\n",
        "      <td>   0.006320</td>\n",
        "      <td>   0.000000</td>\n",
        "      <td>   0.460000</td>\n",
        "      <td>   0.000000</td>\n",
        "      <td>   0.385000</td>\n",
        "      <td>   3.561000</td>\n",
        "      <td>   2.900000</td>\n",
        "      <td>   1.129600</td>\n",
        "      <td>   1.000000</td>\n",
        "      <td> 187.000000</td>\n",
        "      <td>  12.600000</td>\n",
        "      <td>   0.320000</td>\n",
        "      <td>   1.730000</td>\n",
        "      <td>   5.000000</td>\n",
        "    </tr>\n",
        "    <tr>\n",
        "      <th>25%</th>\n",
        "      <td>   0.082045</td>\n",
        "      <td>   0.000000</td>\n",
        "      <td>   5.190000</td>\n",
        "      <td>   0.000000</td>\n",
        "      <td>   0.449000</td>\n",
        "      <td>   5.885500</td>\n",
        "      <td>  45.025000</td>\n",
        "      <td>   2.100175</td>\n",
        "      <td>   4.000000</td>\n",
        "      <td> 279.000000</td>\n",
        "      <td>  17.400000</td>\n",
        "      <td> 375.377500</td>\n",
        "      <td>   6.950000</td>\n",
        "      <td>  17.025000</td>\n",
        "    </tr>\n",
        "    <tr>\n",
        "      <th>50%</th>\n",
        "      <td>   0.256510</td>\n",
        "      <td>   0.000000</td>\n",
        "      <td>   9.690000</td>\n",
        "      <td>   0.000000</td>\n",
        "      <td>   0.538000</td>\n",
        "      <td>   6.208500</td>\n",
        "      <td>  77.500000</td>\n",
        "      <td>   3.207450</td>\n",
        "      <td>   5.000000</td>\n",
        "      <td> 330.000000</td>\n",
        "      <td>  19.050000</td>\n",
        "      <td> 391.440000</td>\n",
        "      <td>  11.360000</td>\n",
        "      <td>  21.200000</td>\n",
        "    </tr>\n",
        "    <tr>\n",
        "      <th>75%</th>\n",
        "      <td>   3.647423</td>\n",
        "      <td>  12.500000</td>\n",
        "      <td>  18.100000</td>\n",
        "      <td>   0.000000</td>\n",
        "      <td>   0.624000</td>\n",
        "      <td>   6.623500</td>\n",
        "      <td>  94.075000</td>\n",
        "      <td>   5.188425</td>\n",
        "      <td>  24.000000</td>\n",
        "      <td> 666.000000</td>\n",
        "      <td>  20.200000</td>\n",
        "      <td> 396.225000</td>\n",
        "      <td>  16.955000</td>\n",
        "      <td>  25.000000</td>\n",
        "    </tr>\n",
        "    <tr>\n",
        "      <th>max</th>\n",
        "      <td>  88.976200</td>\n",
        "      <td> 100.000000</td>\n",
        "      <td>  27.740000</td>\n",
        "      <td>   1.000000</td>\n",
        "      <td>   0.871000</td>\n",
        "      <td>   8.780000</td>\n",
        "      <td> 100.000000</td>\n",
        "      <td>  12.126500</td>\n",
        "      <td>  24.000000</td>\n",
        "      <td> 711.000000</td>\n",
        "      <td>  22.000000</td>\n",
        "      <td> 396.900000</td>\n",
        "      <td>  37.970000</td>\n",
        "      <td>  50.000000</td>\n",
        "    </tr>\n",
        "  </tbody>\n",
        "</table>\n",
        "</div>"
       ],
       "metadata": {},
       "output_type": "pyout",
       "prompt_number": 33,
       "text": [
        "             CRIM          ZN       INDUS        CHAS         NOX          RM  \\\n",
        "count  506.000000  506.000000  506.000000  506.000000  506.000000  506.000000   \n",
        "mean     3.593761   11.363636   11.136779    0.069170    0.554695    6.284634   \n",
        "std      8.596783   23.322453    6.860353    0.253994    0.115878    0.702617   \n",
        "min      0.006320    0.000000    0.460000    0.000000    0.385000    3.561000   \n",
        "25%      0.082045    0.000000    5.190000    0.000000    0.449000    5.885500   \n",
        "50%      0.256510    0.000000    9.690000    0.000000    0.538000    6.208500   \n",
        "75%      3.647423   12.500000   18.100000    0.000000    0.624000    6.623500   \n",
        "max     88.976200  100.000000   27.740000    1.000000    0.871000    8.780000   \n",
        "\n",
        "              AGE         DIS         RAD         TAX     PTRATIO           B  \\\n",
        "count  506.000000  506.000000  506.000000  506.000000  506.000000  506.000000   \n",
        "mean    68.574901    3.795043    9.549407  408.237154   18.455534  356.674032   \n",
        "std     28.148861    2.105710    8.707259  168.537116    2.164946   91.294864   \n",
        "min      2.900000    1.129600    1.000000  187.000000   12.600000    0.320000   \n",
        "25%     45.025000    2.100175    4.000000  279.000000   17.400000  375.377500   \n",
        "50%     77.500000    3.207450    5.000000  330.000000   19.050000  391.440000   \n",
        "75%     94.075000    5.188425   24.000000  666.000000   20.200000  396.225000   \n",
        "max    100.000000   12.126500   24.000000  711.000000   22.000000  396.900000   \n",
        "\n",
        "            LSTAT        MEDV  \n",
        "count  506.000000  506.000000  \n",
        "mean    12.653063   22.532806  \n",
        "std      7.141062    9.197104  \n",
        "min      1.730000    5.000000  \n",
        "25%      6.950000   17.025000  \n",
        "50%     11.360000   21.200000  \n",
        "75%     16.955000   25.000000  \n",
        "max     37.970000   50.000000  "
       ]
      }
     ],
     "prompt_number": 33
    },
    {
     "cell_type": "markdown",
     "metadata": {},
     "source": [
      "## matplotlib \u306e\u4f7f\u3044\u65b9\n",
      "\n",
      "\u7c21\u5358\u306b\u96c6\u8a08\u30b0\u30e9\u30d5\u3092\u4f5c\u3063\u3066\u307f\u307e\u3057\u3087\u3046\u3002\n",
      "\u6a2a\u8ef8\u306b\u4fa1\u683c\u3001\u7e26\u8ef8\u306b\u5ea6\u6570\u3092\u3068\u3063\u305f\u30d2\u30b9\u30c8\u30b0\u30e9\u30e0\u3092\u4f5c\u3063\u3066\u307f\u307e\u3059\u3002"
     ]
    },
    {
     "cell_type": "code",
     "collapsed": false,
     "input": [
      "plt.hist(df.MEDV)\n",
      "plt.title('Housing prices')\n",
      "plt.xlabel('price')\n",
      "plt.ylabel('frequency')\n",
      "plt.show()"
     ],
     "language": "python",
     "metadata": {},
     "outputs": [
      {
       "metadata": {},
       "output_type": "display_data",
       "png": "[encoded data removed]",
       "text": [
        "<matplotlib.figure.Figure at 0x11da64250>"
       ]
      }
     ],
     "prompt_number": 34
    },
    {
     "cell_type": "markdown",
     "metadata": {},
     "source": [
      "\u4fa1\u683c\u3068\u5e73\u5747\u90e8\u5c4b\u6570\u306e\u95a2\u4fc2\u3092\u6563\u5e03\u56f3\u306b\u8868\u793a\u3057\u3066\u307f\u307e\u3059\u3002"
     ]
    },
    {
     "cell_type": "code",
     "collapsed": false,
     "input": [
      "plt.scatter(df.RM, df.MEDV)\n",
      "plt.title('Average Number of Rooms vs Housing prices')\n",
      "plt.xlabel('average number of rooms')\n",
      "plt.ylabel('price')\n",
      "plt.show()"
     ],
     "language": "python",
     "metadata": {},
     "outputs": [
      {
       "metadata": {},
       "output_type": "display_data",
       "png": "[encoded data removed]",
       "text": [
        "<matplotlib.figure.Figure at 0x11da92610>"
       ]
      }
     ]
    },
    {
     "cell_type": "markdown",
     "metadata": {},
     "source": [
      "\u5168\u5c5e\u6027\u306e\u9593\u306e\u6563\u5e03\u56f3\u306e\u30de\u30c8\u30ea\u30c3\u30af\u30b9\u3092\u8868\u793a\u3059\u308b\u3053\u3068\u3082\u51fa\u6765\u307e\u3059\u3002(\u8868\u793a\u3055\u308c\u308b\u307e\u3067\u306b\u6642\u9593\u304c\u304b\u304b\u308a\u307e\u3059\u3002\u4e0d\u8981\u306a\u6587\u5b57\u51fa\u529b\u3092\u6291\u5236\u3057\u305f\u3044\u5834\u5408\u306f\u3001scatter_matrix\u306e\u884c\u306e\u884c\u672b\u306b\u30bb\u30df\u30b3\u30ed\u30f3\u3092\u8ffd\u52a0\u3057\u3066\u307f\u3066\u304f\u3060\u3055\u3044)"
     ]
    },
    {
     "cell_type": "code",
     "collapsed": false,
     "input": [
      "from pandas.tools.plotting import scatter_matrix\n",
      "scatter_matrix(df, figsize=(14, 14), diagonal='hist')"
     ],
     "language": "python",
     "metadata": {},
     "outputs": []
    },
    {
     "cell_type": "markdown",
     "metadata": {},
     "source": [
      "\u5404\u5909\u6570\u306e\u9593\u306e\u76f8\u95a2\u4fc2\u6570\u3092\u8a08\u7b97\u3057\u3066\u307f\u307e\u3057\u3087\u3046"
     ]
    },
    {
     "cell_type": "code",
     "collapsed": false,
     "input": [
      "corrs = df.corr()\n",
      "corrs"
     ],
     "language": "python",
     "metadata": {},
     "outputs": []
    },
    {
     "cell_type": "markdown",
     "metadata": {},
     "source": [
      "\u8868\u306e\u307e\u307e\u3067\u306f\u5224\u308a\u306b\u304f\u3044\u306e\u3067\u3001\u8868\u3092\u30ab\u30e9\u30fc\u30de\u30c3\u30d7\u8868\u73fe\u3057\u3066\u307f\u307e\u3057\u3087\u3046\u3002\u5f37\u3044\u76f8\u95a2\u304c\u3042\u308b\u9805\u76ee\u306e\u9593\u306f\u6fc3\u3044\u8272\u3067\u8868\u73fe\u3055\u308c\u307e\u3059\u3002"
     ]
    },
    {
     "cell_type": "code",
     "collapsed": false,
     "input": [
      "plt.pcolor(corrs, cmap='bwr', vmin=-1.0, vmax=1.0)\n",
      "plt.yticks(np.arange(0.5, len(corrs.index), 1), corrs.index)\n",
      "plt.xticks(np.arange(0.5, len(corrs.columns), 1), corrs.columns)\n",
      "plt.colorbar()"
     ],
     "language": "python",
     "metadata": {},
     "outputs": []
    },
    {
     "cell_type": "markdown",
     "metadata": {},
     "source": [
      "## scikit-learn \u3067\u7dda\u5f62\u56de\u5e30\u3059\u308b\n",
      "\n",
      " \u307e\u305a\u4e00\u756a\u6a19\u6e96\u7684\u306a\u7dda\u5f62\u56de\u5e30\u3092\u884c\u3044\u3001\u5b9f\u6e2c\u5024\u3068\u4e88\u6e2c\u306e\u5dee\u3092\u30d2\u30b9\u30c8\u30b0\u30e9\u30e0\u306b\u3057\u3066\u307f\u307e\u3057\u3087\u3046\u3002\n",
      " \u7dda\u5f62\u56de\u5e30\u306f linear_model \u306e\u4e2d\u306e LinearRegression \u3092\u4f7f\u7528\u3057\u307e\u3059\u3002fit \u3067\u30d5\u30a3\u30c3\u30c6\u30a3\u30f3\u30b0\u3092\u884c\u3044\u3001predict \u3067\u4e88\u6e2c\u5024\u3092\u8a08\u7b97\u3057\u307e\u3059\u3002"
     ]
    },
    {
     "cell_type": "code",
     "collapsed": false,
     "input": [
      "from sklearn.linear_model import LinearRegression\n",
      "lr = LinearRegression(normalize=True)\n",
      "lr.fit(boston.data, boston.target)\n",
      "predicted = lr.predict(boston.data)\n",
      "plt.hist(boston.target - predicted, bins=50)\n",
      "plt.show()"
     ],
     "language": "python",
     "metadata": {},
     "outputs": []
    },
    {
     "cell_type": "code",
     "collapsed": false,
     "input": [
      "zip(boston.feature_names, lr.coef_)"
     ],
     "language": "python",
     "metadata": {},
     "outputs": []
    },
    {
     "cell_type": "markdown",
     "metadata": {},
     "source": [
      "### \u6b63\u5247\u5316\u4ed8\u304d\u7dda\u5f62\u56de\u5e30\n",
      "\n",
      "RidgeCV \u3092\u4ee3\u308f\u308a\u306b\u4f7f\u7528\u3059\u308c\u3070\u3001Ridge(L2\u6b63\u5247\u5316)\u3092\u4ea4\u5dee\u691c\u5b9a\u4ed8\u304d\u3067\u5b9f\u884c\u3057\u3066\u304f\u308c\u307e\u3059\u3002\n",
      "\n",
      "Ridge \u306f\u6b21\u306e\u5024\u3092\u6700\u5c0f\u5316\u3059\u308b\u3088\u3046\u306b $w$ \u3092\u8a08\u7b97\u3057\u307e\u3059\u3002\n",
      "$$\\frac{1}{2N} \\|y - Xw\\|^2_2 + \\alpha \\|w\\|_2^2$$\n",
      "\u8abf\u6574\u3059\u3079\u304d\u30d1\u30e9\u30e1\u30fc\u30bf $\\alpha$ \u306f RidgeCV \u306e\u4e2d\u3067\u4ea4\u5dee\u691c\u5b9a\u3092\u7528\u3044\u3066\u6700\u9069\u5316\u3055\u308c\u307e\u3059\u3002"
     ]
    },
    {
     "cell_type": "code",
     "collapsed": false,
     "input": [
      "from sklearn.linear_model import RidgeCV\n",
      "rcv = RidgeCV(alphas=np.array([0.001, 0.003, 0.01, 0.03, 0.1, 0.3, 1.0]), normalize=True)\n",
      "rcv.fit(boston.data, boston.target)\n",
      "rcv.alpha_"
     ],
     "language": "python",
     "metadata": {},
     "outputs": []
    },
    {
     "cell_type": "code",
     "collapsed": false,
     "input": [
      "zip(boston.feature_names, rcv.coef_)"
     ],
     "language": "python",
     "metadata": {},
     "outputs": []
    },
    {
     "cell_type": "markdown",
     "metadata": {},
     "source": [
      "\u540c\u69d8\u306b\u3001Lasso(L1\u6b63\u5247\u5316)\u3082\u4ea4\u5dee\u691c\u5b9a\u4ed8\u304d\u3067\u8a66\u3057\u3066\u307f\u307e\u3059\u3002\n",
      "\n",
      "Lasso \u306f\u6b21\u306e\u5024\u3092\u6700\u5c0f\u5316\u3059\u308b\u3088\u3046\u306b $w$ \u3092\u8a08\u7b97\u3057\u307e\u3059\u3002\n",
      "$$\\frac{1}{2N} \\|y - Xw\\|^2_2 + \\alpha \\|w\\|_1$$\n",
      "\u8abf\u6574\u3059\u3079\u304d\u30d1\u30e9\u30e1\u30fc\u30bf $\\alpha$ \u306f LassoCV \u306e\u4e2d\u3067\u4ea4\u5dee\u691c\u5b9a\u3092\u7528\u3044\u3066\u6700\u9069\u5316\u3055\u308c\u307e\u3059\u3002"
     ]
    },
    {
     "cell_type": "code",
     "collapsed": false,
     "input": [
      "from sklearn.linear_model import LassoCV\n",
      "lcv = LassoCV(alphas=np.array([0.001, 0.003, 0.01, 0.03, 0.1, 0.3, 1.0]), normalize=True)\n",
      "lcv.fit(boston.data, boston.target)\n",
      "lcv.alpha_"
     ],
     "language": "python",
     "metadata": {},
     "outputs": []
    },
    {
     "cell_type": "markdown",
     "metadata": {},
     "source": [
      "\u4fc2\u6570\u3092\u307f\u308b\u3068\u30010 \u306b\u306a\u3063\u3066\u3044\u308b\u3082\u306e\u304c4\u3064('INDUS', 'AGE', 'RAD', 'TAX')\u3042\u308b\u306e\u304c\u5224\u308a\u307e\u3059\u3002Lasso\u3092\u4f7f\u3046\u3053\u3068\u3067\u3001\u8aac\u660e\u5909\u6570\u3092\u7c21\u5358\u306b\u7d5e\u308a\u8fbc\u3080\u3053\u3068\u304c\u3067\u304d\u307e\u3059\u3002\n",
      "\n",
      "\u305d\u308c\u3089\u306e\u5909\u6570\u306b\u3064\u3044\u3066\u6563\u5e03\u56f3\u3092\u4f5c\u308b\u3068\u3001\u78ba\u304b\u306b\u7dba\u9e97\u306a\u76f8\u95a2\u95a2\u4fc2\u306f\u306a\u3055\u305d\u3046\uff08\u5916\u308c\u5024\u306e\u5f71\u97ff\u3092\u53d7\u3051\u3066\u3044\u308b\uff1f\uff09\u306b\u898b\u3048\u307e\u3059\u3002"
     ]
    },
    {
     "cell_type": "code",
     "collapsed": false,
     "input": [
      "zip(boston.feature_names, lcv.coef_)"
     ],
     "language": "python",
     "metadata": {},
     "outputs": []
    },
    {
     "cell_type": "code",
     "collapsed": false,
     "input": [
      "plt.scatter(df.INDUS, df.MEDV)"
     ],
     "language": "python",
     "metadata": {},
     "outputs": []
    },
    {
     "cell_type": "code",
     "collapsed": false,
     "input": [
      "plt.scatter(df.AGE, df.MEDV)"
     ],
     "language": "python",
     "metadata": {},
     "outputs": []
    },
    {
     "cell_type": "code",
     "collapsed": false,
     "input": [
      "plt.scatter(df.RAD, df.MEDV)"
     ],
     "language": "python",
     "metadata": {},
     "outputs": []
    },
    {
     "cell_type": "code",
     "collapsed": false,
     "input": [
      "plt.scatter(df.TAX, df.MEDV)"
     ],
     "language": "python",
     "metadata": {},
     "outputs": []
    },
    {
     "cell_type": "markdown",
     "metadata": {},
     "source": [
      "\u6642\u9593\u304c\u4f59\u3063\u3066\u3044\u308b\u3072\u3068\u306f ElasticNetCV \u3082\u8a66\u3057\u3066\u307f\u3066\u304f\u3060\u3055\u3044\u3002"
     ]
    },
    {
     "cell_type": "code",
     "collapsed": false,
     "input": [
      "from sklearn.linear_model import ElasticNetCV\n",
      "encv = ElasticNetCV(alphas=np.array([0.0001, 0.0003, 0.01, 0.03, 0.1, 0.3, 1.0]), \\\n",
      "                    l1_ratio=np.array([0.5, 0.8, 0.9, 0.95, 0.99, 0.995, 1.0]), normalize=True)\n",
      "encv.fit(boston.data, boston.target)\n",
      "zip(boston.feature_names, encv.coef_)"
     ],
     "language": "python",
     "metadata": {},
     "outputs": []
    },
    {
     "cell_type": "code",
     "collapsed": false,
     "input": [
      "encv.alpha_, encv.l1_ratio_"
     ],
     "language": "python",
     "metadata": {},
     "outputs": []
    },
    {
     "cell_type": "code",
     "collapsed": false,
     "input": [],
     "language": "python",
     "metadata": {},
     "outputs": []
    }
   ],
   "metadata": {}
  }
 ]
}