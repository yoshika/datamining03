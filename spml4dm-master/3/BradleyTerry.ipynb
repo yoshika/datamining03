{
 "metadata": {
  "name": "",
  "signature": "sha256:a0ea80fdcf2baf28230410b00f08c550a205bd0373944fa932c98426ee74fdb2"
 },
 "nbformat": 3,
 "nbformat_minor": 0,
 "worksheets": [
  {
   "cells": [
    {
     "cell_type": "markdown",
     "metadata": {},
     "source": [
      "# Bradley-Terry's Model\n",
      "\n",
      "\u524d\u56de\u306e\u52c9\u5f37\u4f1a\u3067\u3001$\\chi^2$(\u30ab\u30a4\u4e8c\u4e57)\u691c\u5b9a\u3092\u5b66\u3073\u307e\u3057\u305f\u3002\n",
      "\n",
      "\u3042\u308b\u30e2\u30c7\u30eb\u304b\u3089\u8a08\u7b97\u3055\u308c\u308b\u7406\u8ad6\u5024\u3068\u5b9f\u6e2c\u5024\u306e\u5dee\u3092$\\chi^2$\u5206\u5e03\u306b\u5e30\u7740\u3055\u305b\u308b\u3053\u3068\u3067\u3001\u30e2\u30c7\u30eb\u306b\u9069\u5408\u3057\u3066\u308b\u304b\u5426\u304b\u3092\u691c\u5b9a\u3067\u304d\u307e\u3059\u3002\n",
      "\u305d\u306e\u4e00\u756a\u4f7f\u308f\u308c\u308b\u4f8b\u3068\u3057\u3066\u5206\u5272\u8868 (contingency table) \u306b\u3064\u3044\u3066\u5b66\u3073\u307e\u3057\u305f\u3002(\u5206\u5272\u6cd5\u306e\u691c\u5b9a\u306f\u5f79\u306b\u7acb\u3064\u306e\u3067\u3088\u304f\u5fa9\u7fd2\u3057\u3066\u304a\u3044\u3066\u304f\u3060\u3055\u3044)\n",
      "\n",
      "\u4eca\u56de\u306f\u5206\u5272\u8868\u4ee5\u5916\u3067\u306e$\\chi^2$\u691c\u5b9a\u306e\u8a71\u3068\u3057\u3066\u3001Bradley-Terry\u30e2\u30c7\u30eb\u306e\u8a71\u3092\u3057\u307e\u3059\u3002"
     ]
    },
    {
     "cell_type": "markdown",
     "metadata": {},
     "source": [
      "Bradley-Terry \u30e2\u30c7\u30eb\u306f\u3001\u6bd4\u8f03\u7d50\u679c\u3092\u4e88\u6e2c\u3059\u308b\u305f\u3081\u306e\u30e2\u30c7\u30eb\u3067\u3059\u3002\u6bd4\u8f03\u306e\u5177\u4f53\u4f8b\u3068\u3057\u3066\u3001\u4eca\u56de\u306e\u6f14\u7fd2\u8ab2\u984c\u3068\u3057\u3066\u306f\u91ce\u7403\u306e\u52dd\u6557\u3092\u4f8b\u306b\u3068\u308a\u307e\u3059\u3002\n",
      "\n",
      "2014\u5e74\u5ea6\u30bb\u30fb\u30ea\u30fc\u30b0\u5bfe\u6226\u7d50\u679c(http://bis.npb.or.jp/2014/stats/std_c.html \u3092\u53c2\u7167\u3057\u307e\u3057\u305f)\u306f\u4e0b\u8a18\u306e\u3088\u3046\u306b\u306a\u308a\u307e\u3059\u3002\n",
      "\u6570\u5024\u306f\u52dd\u3063\u305f\u8a66\u5408\u6570(\u5f15\u304d\u5206\u3051\u306f0.5\u52dd\u6271\u3044)\u3067\u3059\u3002\n",
      "\n",
      "|     | \u5bfe\u8aad | \u5bfe\u962a | \u5bfe\u5e83 | \u5bfe\u4e2d | \u5bfeDe | \u5bfe\u30e4 || \u7dcf\u52dd\u6570 |\n",
      "|:---:|:---:|:----:|:---:|:---:|:---:|:----:||:----:|\n",
      "| \u8aad\u58f2 | *   | 13   | 13.5 | 16 | 11  | 13   || 82.5 |\n",
      "| \u962a\u795e | 11  | *    | 14   | 12.5 | 16 | 13 || 75.5 |\n",
      "| \u5e83\u5cf6 | 10.5 | 10  | *   | 14 | 15.5 | 16 || 75 | \n",
      "| \u4e2d\u65e5 | 8 | 11.5 | 10 | * | 14.5 | 11.5 || 69 |\n",
      "| DeNA | 13 | 8 | 8.5 | 9.5 | * | 16 || 68 |\n",
      "| \u30e4\u30af\u30eb\u30c8 | 11 | 11 | 8 | 12.5 | 8 | * || 61.5 |\n",
      "\n",
      "Bradley-Terry \u30e2\u30c7\u30eb\u3067\u306f\u30c1\u30fc\u30e0$i$\u304c\u30c1\u30fc\u30e0$j$\u306b\u52dd\u3064\u78ba\u7387$p_{ij} = p(i>j)$\u304c\u3001\n",
      "$$p_{ij} = \\frac{\\theta_i}{\\theta_i + \\theta_j}$$\n",
      "\u3067\u8868\u73fe\u3067\u304d\u308b\u3001\u3068\u3044\u3046\u30e2\u30c7\u30eb\u3067\u3059\u3002$\\theta_i$\u306f\u30c1\u30fc\u30e0$i$\u306e\u300c\u5f37\u3055\u300d\u3092\u8868\u73fe\u3059\u308b\u4e00\u6b21\u5143\u7684\u306a\u6570\u5024\u3067\u3042\u308b\u3068\u8003\u3048\u308b\u3053\u3068\u304c\u51fa\u6765\u307e\u3059\u3002\n",
      "\n",
      "\u3082\u3046\u5c11\u3057\u30e2\u30c7\u30eb\u306e\u6570\u5024\u7684\u306a\u610f\u5473\u3092\u8003\u3048\u3066\u307f\u307e\u3057\u3087\u3046\u3002$p_{ij}$ \u306e\u30aa\u30c3\u30ba\u6bd4\u306e\u5bfe\u6570\u3092\u8003\u3048\u307e\u3059\u3002(\u78ba\u7387 $p$ \u306b\u5bfe\u3057\u3066 $\\frac{p}{1-p}$ \u3092 $p$ \u306e\u30aa\u30c3\u30ba\u6bd4\u3068\u3044\u3044\u307e\u3059\u3002\u30ed\u30b8\u30b9\u30c1\u30c3\u30af\u56de\u5e30\u5206\u6790\u3067\u3088\u304f\u51fa\u3066\u304f\u308b\u7528\u8a9e\u3067\u3059)\n",
      "\n",
      "\u3053\u306e\u91cf\u304c\u3001\u30c1\u30fc\u30e0$i$\u306b\u4f9d\u5b58\u3059\u308b\u91cf$\\beta_i$ \u3068\u30c1\u30fc\u30e0$j$\u306b\u4f9d\u5b58\u3059\u308b\u91cf $\\beta_j$ \u306e\u5dee\u3067\u66f8\u3051\u308b\u3068\u4eee\u5b9a\u3059\u308b\u3068\u3001\n",
      "$$\\log \\frac{p_{ij}}{1-p_{ij}} = \\log \\frac{p_{ij}}{p_{ji}} = \\beta_i - \\beta_j$$\n",
      "\u3053\u3053\u3067\u3001$\\exp \\beta_i = \\theta_i$ \u3068\u7f6e\u304f\u3068\u4e0a\u306e\u5f0f\u304c\u51fa\u307e\u3059\u3002\n",
      "\n",
      "$\\theta_i$ \u3092\u3069\u306e\u3088\u3046\u306b\u8a08\u7b97\u3059\u308b\u304b\u3067\u3059\u304c\u3001(\u5c0e\u51fa\u306e\u90fd\u5408\u4e0a\u3001\u7c21\u5358\u306e\u305f\u3081\u306b\u5f15\u304d\u5206\u3051\u304c\u306a\u3044\u3068\u4eee\u5b9a\u3059\u308b\u3068)\u30c1\u30fc\u30e0$i$\u304c\u30c1\u30fc\u30e0$j$\u306b\u52dd\u3063\u305f\u52dd\u3061\u6570$w_{ij}$\u306e\u5206\u5e03\u306f\u3001\n",
      "$$P(w_{ij}) = \\binom{w_{ij}+w_{ji}}{w_{ij}}p_{ij}^{w_{ij}}p_{ji}^{w_{ji}}$$\n",
      "\u3053\u308c\u3092\u5168\u7d44\u307f\u5408\u308f\u305b\u306b\u3064\u3044\u3066\u7a4d\u3092\u8003\u3048\u308b\u3068\u5c24\u5ea6\u95a2\u6570\n",
      "$$\\mathcal{L}(\\mathbf{p}) = \\prod_{1 \\leq i < j \\leq n} \\binom{r_{ij}}{w_{ij}}p_{ij}^{w_{ij}}p_{ji}^{w_{ji}}, \\;\\; r_{ij} = w_{ij}+w_{ji}$$\n",
      "\u304c\u5f97\u3089\u308c\u3001\u3053\u308c\u3092\u89e3\u304f\u3068\uff08\u5c0e\u51fa\u306f\u3001\u4f8b\u3048\u3070\u300c\u81ea\u7136\u79d1\u5b66\u306e\u7d71\u8a08\u5b66 p.168\u300d\uff08\u6771\u5927\u51fa\u7248\u4f1a\uff09\u53c2\u7167\uff09\u3001\u6700\u5c24\u89e3$\\hat{\\theta_i}$\u306f\n",
      "$$\\hat{\\theta_i}\\sum_{j \\neq i} \\frac{r_{ij}}{\\hat{\\theta_i}+\\hat{\\theta_j}} = \\sum_{j \\neq i}w_{ij}$$\n",
      "\u3067\u5f97\u3089\u308c\u307e\u3059\u3002\u305f\u3060\u3057\u3001$\\theta_i$\u306f\u304a\u4e92\u3044\u306e\u6bd4\u306b\u3057\u304b\u610f\u5473\u304c\u306a\u3044\u305f\u3081\u3001\u4e0d\u5b9a\u6027\u3092\u6d88\u3059\u305f\u3081\u306b\n",
      "$$\\sum_i \\hat{\\theta_i} = 1$$\n",
      "\u3068\u5b9a\u3081\u308b\u3053\u3068\u306b\u3057\u307e\u3059\u3002\n",
      "\n",
      "\u3053\u306e\u65b9\u7a0b\u5f0f\u306f\u4e0b\u8a18\u306e\u3088\u3046\u306a\u53cd\u5fa9\u6cd5\u3067\u89e3\u304f\u3053\u3068\u304c\u51fa\u6765\u307e\u3059\u3002\n",
      "\n",
      "1. \u521d\u671f\u5024\u3092 $\\theta_i^0 = \\frac{1}{6}, \\; (i=1, \\cdots, 6)$ \u3068\u3059\u308b\u3002\n",
      "2. \u73fe\u5728\u306e\u8fd1\u4f3c\u5024\u3092\u5143\u306b\u6700\u5c24\u89e3\u3092\u89e3\u304f\u3002\n",
      "$$\\tilde{\\theta}_i^{t+1} = \\frac{\\sum_{j \\neq i} w_{ij}}{\\sum_{j \\neq i}\\frac{r_{ij}}{\\theta_i^t + \\theta_j^t}}$$\n",
      "3. \u5f97\u3089\u308c\u305f\u6700\u5c24\u89e3\u3092\u30b9\u30b1\u30fc\u30ea\u30f3\u30b0\u3059\u308b\u3002\n",
      "$$\\theta_i^{t+1} = \\frac{\\tilde{\\theta}_i^{t+1}}{\\sum_i \\tilde{\\theta}_i^{t+1}}$$\n",
      "\n",
      "### \u8ab2\u984c\uff1a\n",
      "\n",
      "\u4e0a\u306b\u66f8\u304b\u308c\u305f\u53cd\u5fa9\u6cd5\u3092\u7528\u3044\u3066\u3001\u4e0a\u8a18\u306e\u30ea\u30fc\u30b0\u6226\u306e\u30c7\u30fc\u30bf\u306b\u5bfe\u3057\u3066 $\\theta_i \\; (i=1,\\cdots,6)$ \u3092\u6c42\u3081\u3088\u3002\n",
      "\n",
      "\u8a66\u5408\u306e\u7dcf\u6570 $r_{ij} = w_{ij} + w_{ji} = 24$ \u3067\u3042\u308a\u3001$\\sum_{j \\neq i} w_{ij}$ \u306f\u30c1\u30fc\u30e0$i$\u306e\u7dcf\u52dd\u6570\u3067\u3042\u308b\u3053\u3068\u3092\u7528\u3044\u3088\u3002\n",
      "\n",
      "\u9069\u5f53\u306a\u95be\u5024\u3092\u7528\u3044\u3066\u53ce\u675f\u5224\u5b9a\u3092\u884c\u3063\u3066\u3082\u69cb\u308f\u306a\u3044\u3057\u3001\u9069\u5f53\u306b\u30eb\u30fc\u30d7\u3092100\u56de\u56de\u3059\u3001\u3068\u3044\u3046\u3044\u3044\u52a0\u6e1b\u306a\u65b9\u6cd5\u3067\u3082\u69cb\u308f\u306a\u3044\u3002(Excel\u306e\u30bd\u30eb\u30d0\u30fc\u306a\u3069\u3092\u7528\u3044\u3066\u3082\u7c21\u5358\u306b\u89e3\u3051\u308b)\n",
      "\n",
      "\u89e3\u7b54\u306f\u4e0b\u8a18\u306e\u3088\u3046\u306a\u5024\u306b\u306a\u308b\u306f\u305a\u3067\u3042\u308b\u3002\n",
      "\n",
      "`[ 0.21098976  0.17900355  0.17692579  0.15381943  0.15026899  0.12899249]`"
     ]
    },
    {
     "cell_type": "code",
     "collapsed": false,
     "input": [
      "%matplotlib inline\n",
      "import numpy as np\n",
      "import matplotlib.pyplot as plt"
     ],
     "language": "python",
     "metadata": {},
     "outputs": []
    },
    {
     "cell_type": "code",
     "collapsed": false,
     "input": [],
     "language": "python",
     "metadata": {},
     "outputs": []
    },
    {
     "cell_type": "markdown",
     "metadata": {},
     "source": [
      "\u6c42\u3081\u305f $\\theta_i$ \u306e\u5024\u3092\u7528\u3044\u3066\u3001Bradley-Therry \u30e2\u30c7\u30eb\u306b\u57fa\u3065\u304f\u5404\u8a66\u5408\u306e\u7d50\u679c `calc_win` \u3092\u8a08\u7b97\u3059\u308b\u3068\u4e0b\u8a18\u306e\u3088\u3046\u306b\u306a\u308a\u307e\u3059\u3002"
     ]
    },
    {
     "cell_type": "code",
     "collapsed": false,
     "input": [
      "# \u5148\u306e\u554f\u984c\u3092\u30b9\u30ad\u30c3\u30d7\u3057\u305f\u4eba\u306f\u4e0b\u8a18\u306e\u30b3\u30e1\u30f3\u30c8\u3092\u5916\u3057\u3066\u89e3\u3051\n",
      "# theta = np.array([ 0.21098976  0.17900355  0.17692579  0.15381943  0.15026899  0.12899249])\n",
      "\n",
      "acc = []\n",
      "for i in range(0, 5):\n",
      "    t = theta[i+1:]\n",
      "    acc.append(24*theta[i]/(theta[i]+t))\n",
      "calc_win = np.array(acc)\n",
      "calc_win"
     ],
     "language": "python",
     "metadata": {},
     "outputs": []
    },
    {
     "cell_type": "markdown",
     "metadata": {},
     "source": [
      "\u5b9f\u969b\u306e\u8a66\u5408\u306e\u7d50\u679c `real_win` \u306f\u4e0b\u8a18\u306e\u901a\u308a\u3067\u3059\u3002"
     ]
    },
    {
     "cell_type": "code",
     "collapsed": false,
     "input": [
      "real_win = np.array([np.array([13.0, 13.5, 16.0, 11.0, 13.0]),\n",
      "                     np.array([14.0, 12.5, 16.0, 13.0]),\n",
      "                     np.array([14.0, 15.5, 16.0]),\n",
      "                     np.array([14.5, 11.5]),\n",
      "                     np.array([16.0])])\n"
     ],
     "language": "python",
     "metadata": {},
     "outputs": []
    },
    {
     "cell_type": "markdown",
     "metadata": {},
     "source": [
      "### \u8ab2\u984c\n",
      "\n",
      "`calc_win` \u3068 `real_win` \u3092\u7528\u3044\u3066\n",
      "$$\\chi^2 = \\sum_{1 \\leq i < j \\leq 6} \\frac{(\\text{\u5b9f\u6e2c\u5024}-\\text{\u7406\u8ad6\u5024})^2}{\\text{\u7406\u8ad6\u5024}}$$\n",
      "\u3092\u8a08\u7b97\u3057\u306a\u3055\u3044\u3002\n",
      "\n",
      "\u3053\u306e\u554f\u984c\u3067\u306e$\\chi^2$\u5206\u5e03\u306e\u81ea\u7531\u5ea6\u306f10\u3067\u3059\u3002\u305d\u306e\u7406\u7531\u3092\u8003\u5bdf\u3057\u306a\u3055\u3044\u3002\n",
      "\n",
      "$\\chi^2$\u691c\u5b9a\u3092\u884c\u3044\u3001Bradley-Terry \u30e2\u30c7\u30eb\u304c\u9069\u5408\u3057\u3066\u3044\u308b\u304b\u3092\u691c\u5b9a\u3057\u306a\u3055\u3044\u3002(`scipy.stats.chi2`\u306e`chi2.isf(0.05, 10)`\u306b\u3066 $\\chi^2_{0.05}(10)$ \u306e\u5024\u3092\u5f97\u3089\u308c\u307e\u3059\u3002\u8a73\u3057\u304f\u306f\u524d\u56de\u3092\u5fa9\u7fd2)"
     ]
    },
    {
     "cell_type": "markdown",
     "metadata": {},
     "source": [
      "\u78ba\u7387\u5909\u6570\u306f $1+2+3+4+5=15$ \u500b\u3002\u30e2\u30c7\u30eb\u306e\u300c\u81ea\u7531\u306a\u300d\u30d1\u30e9\u30e1\u30fc\u30bf\u6570\u306f $6-1$ \u500b\u3002\u3088\u3063\u3066\u81ea\u7531\u5ea6\u306f$15-5=10$\u500b\u3002\n",
      "\u8a08\u7b97\u3057\u305f $\\chi^2 = 4.58$ \u3067\u3042\u308a\u3001$\\chi^2_{0.05}(10) = 18.3$ \u3067\u3042\u308b\u304b\u3089\u3001\u6709\u610f\u6c34\u6e96 5% \u3067\u306f\u68c4\u5374\u3055\u308c\u306a\u3044\u3002\n",
      "\u305d\u308c\u306a\u308a\u306e\u4e00\u81f4\u3092\u3057\u3066\u3044\u308b\u3068\u3044\u3048\u308b\u3002"
     ]
    },
    {
     "cell_type": "code",
     "collapsed": false,
     "input": [],
     "language": "python",
     "metadata": {},
     "outputs": []
    },
    {
     "cell_type": "markdown",
     "metadata": {},
     "source": [
      "### \u6700\u5f8c\u306b\n",
      "\n",
      "Bradley-Terry\u30e2\u30c7\u30eb\u306f\u30ea\u30fc\u30b0\u6226\u306e\u7d50\u679c\u3092\u4e88\u6e2c\u3059\u308b\u4ee5\u5916\u306b\u3082\u4f8b\u3048\u3070\u3001\u4e00\u5bfe\u6bd4\u8f03\u6cd5\u306b\u3088\u308b\u5b98\u80fd\u691c\u67fb\uff08\u88ab\u9a13\u8005\u306b\u30b5\u30f3\u30d7\u30eb\u3092\u540c\u6642\u306b\uff12\u3064\u4e0e\u3048\u3066\u6bd4\u8f03\u3055\u305b\u308b\uff09\u306a\u3069\u306b\u3082\u4f7f\u7528\u53ef\u80fd\u3067\u3042\u308a\u3001\u3082\u3057Bradle-Terry\u30e2\u30c7\u30eb\u304c\u9069\u5408\u3059\u308b\u306a\u3089\u3070\u3001\u30e6\u30fc\u30b6\u306e\u597d\u307f\u306e\u9806\u5e8f\u95a2\u4fc2\u3092\u4f55\u304b\u306e\u30d1\u30e9\u30e1\u30fc\u30bf\u4e00\u3064\u3067\u8fd1\u4f3c\u3067\u304d\u308b\u3068\u3044\u3046\u3053\u3068\u306b\u306a\u308a\u307e\u3059\u3002\n",
      "\n",
      "\u306a\u304a\u3001Bradle-Terry\u30e2\u30c7\u30eb\u3092\u4eee\u5b9a\u3059\u308b\u3068\u3044\u3046\u3053\u3068\u306f\u3001\n",
      "$$p_{ij} p_{jk} p_{ki} = \\frac{\\theta_i}{\\theta_i + \\theta_j} \\frac{\\theta_j}{\\theta_j + \\theta_k}\n",
      "\\frac{\\theta_k}{\\theta_k + \\theta_i} = p_{ji} p_{ik} p_{kj}$$\n",
      "\u3068\u306a\u308a\u307e\u3059\u3002\n",
      "\u4eee\u306b $i > j > k > i$ \u306e\u3088\u3046\u306a\uff13\u3059\u304f\u307f\u95a2\u4fc2\u304c\u5b58\u5728\u3059\u308b\u3068\u3001$p_{ij} p_{jk} p_{ki} > p_{ji} p_{ik} p_{kj}$ \u3068\u306a\u308b\u304b\u3089\u3001Bradley-Terry \u30e2\u30c7\u30eb\u306f\u3001\uff13\u3059\u304f\u307f\u95a2\u4fc2\u304c\u7121\u3044\u3001\u3068\u4eee\u5b9a\u3057\u3066\u3044\u308b\u3068\u3082\u3044\u3048\u307e\u3059\u3002\n"
     ]
    },
    {
     "cell_type": "markdown",
     "metadata": {},
     "source": []
    }
   ],
   "metadata": {}
  }
 ]
}